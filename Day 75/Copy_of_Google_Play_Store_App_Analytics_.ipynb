{
  "nbformat": 4,
  "nbformat_minor": 0,
  "metadata": {
    "kernelspec": {
      "display_name": "Python 3",
      "language": "python",
      "name": "python3"
    },
    "language_info": {
      "codemirror_mode": {
        "name": "ipython",
        "version": 3
      },
      "file_extension": ".py",
      "mimetype": "text/x-python",
      "name": "python",
      "nbconvert_exporter": "python",
      "pygments_lexer": "ipython3",
      "version": "3.7.3"
    },
    "colab": {
      "name": "Copy of Google Play Store App Analytics (start).ipynb",
      "provenance": [],
      "collapsed_sections": [
        "7T4sfNpFdiUv",
        "Rgposh-CdiU4",
        "VGu85CLb4OOH",
        "lvpM2MyTdiU6",
        "0tTurR7qdiU9",
        "57mowetLdiU_",
        "Uxk24qMk8vrz",
        "dmXDF75WdiVC",
        "F3zaKvfydiVI",
        "BIWG_10PyIzL",
        "nbYh2tU-VZ-i",
        "Xi2NaEBPVNrP",
        "uT32ylj4WS9B"
      ]
    }
  },
  "cells": [
    {
      "cell_type": "markdown",
      "metadata": {
        "dc": {
          "key": "4"
        },
        "run_control": {
          "frozen": true
        },
        "tags": [
          "context"
        ],
        "id": "-Sxae4jbdiT2"
      },
      "source": [
        "# Introduction\n",
        "\n",
        "In this notebook, we will do a comprehensive analysis of the Android app market by comparing thousands of apps in the Google Play store."
      ]
    },
    {
      "cell_type": "markdown",
      "metadata": {
        "id": "sDT5lMxadiT3"
      },
      "source": [
        "# About the Dataset of Google Play Store Apps & Reviews"
      ]
    },
    {
      "cell_type": "markdown",
      "metadata": {
        "id": "5CiydsdNdiT3"
      },
      "source": [
        "**Data Source:** <br>\n",
        "App and review data was scraped from the Google Play Store by Lavanya Gupta in 2018. Original files listed [here](\n",
        "https://www.kaggle.com/lava18/google-play-store-apps)."
      ]
    },
    {
      "cell_type": "markdown",
      "metadata": {
        "id": "BBKBNy4UdiT4"
      },
      "source": [
        "# Import Statements"
      ]
    },
    {
      "cell_type": "code",
      "metadata": {
        "id": "_5mfFH4_diT4"
      },
      "source": [
        "import pandas as pd\n",
        "import plotly.express as px"
      ],
      "execution_count": null,
      "outputs": []
    },
    {
      "cell_type": "markdown",
      "metadata": {
        "id": "KegC9nPDdiT7"
      },
      "source": [
        "# Notebook Presentation"
      ]
    },
    {
      "cell_type": "code",
      "metadata": {
        "id": "WPL7rhJndiT7"
      },
      "source": [
        "# Show numeric output in decimal format e.g., 2.15\n",
        "pd.options.display.float_format = '{:,.2f}'.format"
      ],
      "execution_count": null,
      "outputs": []
    },
    {
      "cell_type": "markdown",
      "metadata": {
        "id": "Uc9LOZu9diT-"
      },
      "source": [
        "# Read the Dataset"
      ]
    },
    {
      "cell_type": "code",
      "metadata": {
        "id": "zU0Zisv_diT-"
      },
      "source": [
        "df_apps = pd.read_csv('apps.csv')"
      ],
      "execution_count": null,
      "outputs": []
    },
    {
      "cell_type": "markdown",
      "metadata": {
        "id": "iKvSUwQldiUA"
      },
      "source": [
        "# Data Cleaning"
      ]
    },
    {
      "cell_type": "markdown",
      "metadata": {
        "id": "MWTzYZIds5L9"
      },
      "source": [
        "**Challenge**: How many rows and columns does `df_apps` have? What are the column names? Look at a random sample of 5 different rows with [.sample()](https://pandas.pydata.org/pandas-docs/stable/reference/api/pandas.DataFrame.sample.html)."
      ]
    },
    {
      "cell_type": "code",
      "metadata": {
        "id": "HJI7UsPrnuRf",
        "colab": {
          "base_uri": "https://localhost:8080/"
        },
        "outputId": "9239eb33-0bdb-41c4-c35b-1aed6eee5d53"
      },
      "source": [
        "df_apps.shape"
      ],
      "execution_count": null,
      "outputs": [
        {
          "output_type": "execute_result",
          "data": {
            "text/plain": [
              "(10841, 12)"
            ]
          },
          "metadata": {},
          "execution_count": 5
        }
      ]
    },
    {
      "cell_type": "code",
      "metadata": {
        "id": "fKXFjPkmnuYA",
        "colab": {
          "base_uri": "https://localhost:8080/",
          "height": 134
        },
        "outputId": "e4d96755-04ad-4c11-dbbf-7a8272f09d48"
      },
      "source": [
        "df_apps.sample()"
      ],
      "execution_count": null,
      "outputs": [
        {
          "output_type": "execute_result",
          "data": {
            "text/html": [
              "<div>\n",
              "<style scoped>\n",
              "    .dataframe tbody tr th:only-of-type {\n",
              "        vertical-align: middle;\n",
              "    }\n",
              "\n",
              "    .dataframe tbody tr th {\n",
              "        vertical-align: top;\n",
              "    }\n",
              "\n",
              "    .dataframe thead th {\n",
              "        text-align: right;\n",
              "    }\n",
              "</style>\n",
              "<table border=\"1\" class=\"dataframe\">\n",
              "  <thead>\n",
              "    <tr style=\"text-align: right;\">\n",
              "      <th></th>\n",
              "      <th>App</th>\n",
              "      <th>Category</th>\n",
              "      <th>Rating</th>\n",
              "      <th>Reviews</th>\n",
              "      <th>Size_MBs</th>\n",
              "      <th>Installs</th>\n",
              "      <th>Type</th>\n",
              "      <th>Price</th>\n",
              "      <th>Content_Rating</th>\n",
              "      <th>Genres</th>\n",
              "      <th>Last_Updated</th>\n",
              "      <th>Android_Ver</th>\n",
              "    </tr>\n",
              "  </thead>\n",
              "  <tbody>\n",
              "    <tr>\n",
              "      <th>277</th>\n",
              "      <td>Santa Fe Espresso &amp; News</td>\n",
              "      <td>FOOD_AND_DRINK</td>\n",
              "      <td>nan</td>\n",
              "      <td>0</td>\n",
              "      <td>15.00</td>\n",
              "      <td>10</td>\n",
              "      <td>Free</td>\n",
              "      <td>0</td>\n",
              "      <td>Everyone</td>\n",
              "      <td>Food &amp; Drink</td>\n",
              "      <td>October 12, 2017</td>\n",
              "      <td>4.4 and up</td>\n",
              "    </tr>\n",
              "  </tbody>\n",
              "</table>\n",
              "</div>"
            ],
            "text/plain": [
              "                          App        Category  ...      Last_Updated  Android_Ver\n",
              "277  Santa Fe Espresso & News  FOOD_AND_DRINK  ...  October 12, 2017   4.4 and up\n",
              "\n",
              "[1 rows x 12 columns]"
            ]
          },
          "metadata": {},
          "execution_count": 6
        }
      ]
    },
    {
      "cell_type": "code",
      "metadata": {
        "id": "MUluaHF5nueH"
      },
      "source": [
        ""
      ],
      "execution_count": null,
      "outputs": []
    },
    {
      "cell_type": "markdown",
      "metadata": {
        "id": "Hh81sMcvdiUI"
      },
      "source": [
        "### Drop Unused Columns\n",
        "\n",
        "**Challenge**: Remove the columns called `Last_Updated` and `Android_Version` from the DataFrame. We will not use these columns. "
      ]
    },
    {
      "cell_type": "code",
      "metadata": {
        "id": "t7EMSKAOnyzI",
        "colab": {
          "base_uri": "https://localhost:8080/",
          "height": 442
        },
        "outputId": "334fd53e-eca0-4f0c-e301-d58d083c2c0b"
      },
      "source": [
        "df_apps.drop(['Last_Updated'], axis=1, inplace=True)\n",
        "df_apps.head()"
      ],
      "execution_count": null,
      "outputs": [
        {
          "output_type": "execute_result",
          "data": {
            "text/html": [
              "<div>\n",
              "<style scoped>\n",
              "    .dataframe tbody tr th:only-of-type {\n",
              "        vertical-align: middle;\n",
              "    }\n",
              "\n",
              "    .dataframe tbody tr th {\n",
              "        vertical-align: top;\n",
              "    }\n",
              "\n",
              "    .dataframe thead th {\n",
              "        text-align: right;\n",
              "    }\n",
              "</style>\n",
              "<table border=\"1\" class=\"dataframe\">\n",
              "  <thead>\n",
              "    <tr style=\"text-align: right;\">\n",
              "      <th></th>\n",
              "      <th>App</th>\n",
              "      <th>Category</th>\n",
              "      <th>Rating</th>\n",
              "      <th>Reviews</th>\n",
              "      <th>Size_MBs</th>\n",
              "      <th>Installs</th>\n",
              "      <th>Type</th>\n",
              "      <th>Price</th>\n",
              "      <th>Content_Rating</th>\n",
              "      <th>Genres</th>\n",
              "      <th>Android_Ver</th>\n",
              "    </tr>\n",
              "  </thead>\n",
              "  <tbody>\n",
              "    <tr>\n",
              "      <th>0</th>\n",
              "      <td>Ak Parti Yardım Toplama</td>\n",
              "      <td>SOCIAL</td>\n",
              "      <td>nan</td>\n",
              "      <td>0</td>\n",
              "      <td>8.70</td>\n",
              "      <td>0</td>\n",
              "      <td>Paid</td>\n",
              "      <td>$13.99</td>\n",
              "      <td>Teen</td>\n",
              "      <td>Social</td>\n",
              "      <td>4.1 and up</td>\n",
              "    </tr>\n",
              "    <tr>\n",
              "      <th>1</th>\n",
              "      <td>Ain Arabic Kids Alif Ba ta</td>\n",
              "      <td>FAMILY</td>\n",
              "      <td>nan</td>\n",
              "      <td>0</td>\n",
              "      <td>33.00</td>\n",
              "      <td>0</td>\n",
              "      <td>Paid</td>\n",
              "      <td>$2.99</td>\n",
              "      <td>Everyone</td>\n",
              "      <td>Education</td>\n",
              "      <td>3.0 and up</td>\n",
              "    </tr>\n",
              "    <tr>\n",
              "      <th>2</th>\n",
              "      <td>Popsicle Launcher for Android P 9.0 launcher</td>\n",
              "      <td>PERSONALIZATION</td>\n",
              "      <td>nan</td>\n",
              "      <td>0</td>\n",
              "      <td>5.50</td>\n",
              "      <td>0</td>\n",
              "      <td>Paid</td>\n",
              "      <td>$1.49</td>\n",
              "      <td>Everyone</td>\n",
              "      <td>Personalization</td>\n",
              "      <td>4.2 and up</td>\n",
              "    </tr>\n",
              "    <tr>\n",
              "      <th>3</th>\n",
              "      <td>Command &amp; Conquer: Rivals</td>\n",
              "      <td>FAMILY</td>\n",
              "      <td>nan</td>\n",
              "      <td>0</td>\n",
              "      <td>19.00</td>\n",
              "      <td>0</td>\n",
              "      <td>NaN</td>\n",
              "      <td>0</td>\n",
              "      <td>Everyone 10+</td>\n",
              "      <td>Strategy</td>\n",
              "      <td>Varies with device</td>\n",
              "    </tr>\n",
              "    <tr>\n",
              "      <th>4</th>\n",
              "      <td>CX Network</td>\n",
              "      <td>BUSINESS</td>\n",
              "      <td>nan</td>\n",
              "      <td>0</td>\n",
              "      <td>10.00</td>\n",
              "      <td>0</td>\n",
              "      <td>Free</td>\n",
              "      <td>0</td>\n",
              "      <td>Everyone</td>\n",
              "      <td>Business</td>\n",
              "      <td>4.1 and up</td>\n",
              "    </tr>\n",
              "  </tbody>\n",
              "</table>\n",
              "</div>"
            ],
            "text/plain": [
              "                                            App  ...         Android_Ver\n",
              "0                       Ak Parti Yardım Toplama  ...          4.1 and up\n",
              "1                    Ain Arabic Kids Alif Ba ta  ...          3.0 and up\n",
              "2  Popsicle Launcher for Android P 9.0 launcher  ...          4.2 and up\n",
              "3                     Command & Conquer: Rivals  ...  Varies with device\n",
              "4                                    CX Network  ...          4.1 and up\n",
              "\n",
              "[5 rows x 11 columns]"
            ]
          },
          "metadata": {},
          "execution_count": 7
        }
      ]
    },
    {
      "cell_type": "markdown",
      "metadata": {
        "id": "YQGe1DIKdiUM"
      },
      "source": [
        "### Find and Remove NaN values in Ratings\n",
        "\n",
        "**Challenge**: How may rows have a NaN value (not-a-number) in the Ratings column? Create DataFrame called `df_apps_clean` that does not include these rows. "
      ]
    },
    {
      "cell_type": "code",
      "metadata": {
        "id": "grcP1IOZn1Wv",
        "colab": {
          "base_uri": "https://localhost:8080/",
          "height": 458
        },
        "outputId": "061b9a03-e221-4f8e-e867-c20c67aa45e9"
      },
      "source": [
        "nan_rows = df_apps[df_apps.Rating.isna()]\n",
        "print(nan_rows.shape)\n",
        "nan_rows.head()"
      ],
      "execution_count": null,
      "outputs": [
        {
          "output_type": "stream",
          "name": "stdout",
          "text": [
            "(1474, 11)\n"
          ]
        },
        {
          "output_type": "execute_result",
          "data": {
            "text/html": [
              "<div>\n",
              "<style scoped>\n",
              "    .dataframe tbody tr th:only-of-type {\n",
              "        vertical-align: middle;\n",
              "    }\n",
              "\n",
              "    .dataframe tbody tr th {\n",
              "        vertical-align: top;\n",
              "    }\n",
              "\n",
              "    .dataframe thead th {\n",
              "        text-align: right;\n",
              "    }\n",
              "</style>\n",
              "<table border=\"1\" class=\"dataframe\">\n",
              "  <thead>\n",
              "    <tr style=\"text-align: right;\">\n",
              "      <th></th>\n",
              "      <th>App</th>\n",
              "      <th>Category</th>\n",
              "      <th>Rating</th>\n",
              "      <th>Reviews</th>\n",
              "      <th>Size_MBs</th>\n",
              "      <th>Installs</th>\n",
              "      <th>Type</th>\n",
              "      <th>Price</th>\n",
              "      <th>Content_Rating</th>\n",
              "      <th>Genres</th>\n",
              "      <th>Android_Ver</th>\n",
              "    </tr>\n",
              "  </thead>\n",
              "  <tbody>\n",
              "    <tr>\n",
              "      <th>0</th>\n",
              "      <td>Ak Parti Yardım Toplama</td>\n",
              "      <td>SOCIAL</td>\n",
              "      <td>nan</td>\n",
              "      <td>0</td>\n",
              "      <td>8.70</td>\n",
              "      <td>0</td>\n",
              "      <td>Paid</td>\n",
              "      <td>$13.99</td>\n",
              "      <td>Teen</td>\n",
              "      <td>Social</td>\n",
              "      <td>4.1 and up</td>\n",
              "    </tr>\n",
              "    <tr>\n",
              "      <th>1</th>\n",
              "      <td>Ain Arabic Kids Alif Ba ta</td>\n",
              "      <td>FAMILY</td>\n",
              "      <td>nan</td>\n",
              "      <td>0</td>\n",
              "      <td>33.00</td>\n",
              "      <td>0</td>\n",
              "      <td>Paid</td>\n",
              "      <td>$2.99</td>\n",
              "      <td>Everyone</td>\n",
              "      <td>Education</td>\n",
              "      <td>3.0 and up</td>\n",
              "    </tr>\n",
              "    <tr>\n",
              "      <th>2</th>\n",
              "      <td>Popsicle Launcher for Android P 9.0 launcher</td>\n",
              "      <td>PERSONALIZATION</td>\n",
              "      <td>nan</td>\n",
              "      <td>0</td>\n",
              "      <td>5.50</td>\n",
              "      <td>0</td>\n",
              "      <td>Paid</td>\n",
              "      <td>$1.49</td>\n",
              "      <td>Everyone</td>\n",
              "      <td>Personalization</td>\n",
              "      <td>4.2 and up</td>\n",
              "    </tr>\n",
              "    <tr>\n",
              "      <th>3</th>\n",
              "      <td>Command &amp; Conquer: Rivals</td>\n",
              "      <td>FAMILY</td>\n",
              "      <td>nan</td>\n",
              "      <td>0</td>\n",
              "      <td>19.00</td>\n",
              "      <td>0</td>\n",
              "      <td>NaN</td>\n",
              "      <td>0</td>\n",
              "      <td>Everyone 10+</td>\n",
              "      <td>Strategy</td>\n",
              "      <td>Varies with device</td>\n",
              "    </tr>\n",
              "    <tr>\n",
              "      <th>4</th>\n",
              "      <td>CX Network</td>\n",
              "      <td>BUSINESS</td>\n",
              "      <td>nan</td>\n",
              "      <td>0</td>\n",
              "      <td>10.00</td>\n",
              "      <td>0</td>\n",
              "      <td>Free</td>\n",
              "      <td>0</td>\n",
              "      <td>Everyone</td>\n",
              "      <td>Business</td>\n",
              "      <td>4.1 and up</td>\n",
              "    </tr>\n",
              "  </tbody>\n",
              "</table>\n",
              "</div>"
            ],
            "text/plain": [
              "                                            App  ...         Android_Ver\n",
              "0                       Ak Parti Yardım Toplama  ...          4.1 and up\n",
              "1                    Ain Arabic Kids Alif Ba ta  ...          3.0 and up\n",
              "2  Popsicle Launcher for Android P 9.0 launcher  ...          4.2 and up\n",
              "3                     Command & Conquer: Rivals  ...  Varies with device\n",
              "4                                    CX Network  ...          4.1 and up\n",
              "\n",
              "[5 rows x 11 columns]"
            ]
          },
          "metadata": {},
          "execution_count": 8
        }
      ]
    },
    {
      "cell_type": "code",
      "metadata": {
        "id": "IbQnnPaUn1Pw",
        "colab": {
          "base_uri": "https://localhost:8080/"
        },
        "outputId": "0de08cb1-a428-4b96-db8d-11c27983d863"
      },
      "source": [
        "df_apps_clean = df_apps.dropna()\n",
        "df_apps_clean.shape"
      ],
      "execution_count": null,
      "outputs": [
        {
          "output_type": "execute_result",
          "data": {
            "text/plain": [
              "(9365, 11)"
            ]
          },
          "metadata": {},
          "execution_count": 9
        }
      ]
    },
    {
      "cell_type": "markdown",
      "metadata": {
        "id": "pD26SWlxdiUV"
      },
      "source": [
        "### Find and Remove Duplicates\n",
        "\n",
        "**Challenge**: Are there any duplicates in data? Check for duplicates using the [.duplicated()](https://pandas.pydata.org/pandas-docs/stable/reference/api/pandas.DataFrame.duplicated.html) function. How many entries can you find for the \"Instagram\" app? Use [.drop_duplicates()](https://pandas.pydata.org/pandas-docs/stable/reference/api/pandas.DataFrame.drop_duplicates.html) to remove any duplicates from `df_apps_clean`. \n"
      ]
    },
    {
      "cell_type": "code",
      "metadata": {
        "colab": {
          "base_uri": "https://localhost:8080/",
          "height": 259
        },
        "id": "kT29ZMbF6mp-",
        "outputId": "4b9a54e0-87c6-446a-8f1e-2debb086cb22"
      },
      "source": [
        "df_apps_clean[df_apps_clean.App == 'Instagram']"
      ],
      "execution_count": null,
      "outputs": [
        {
          "output_type": "execute_result",
          "data": {
            "text/html": [
              "<div>\n",
              "<style scoped>\n",
              "    .dataframe tbody tr th:only-of-type {\n",
              "        vertical-align: middle;\n",
              "    }\n",
              "\n",
              "    .dataframe tbody tr th {\n",
              "        vertical-align: top;\n",
              "    }\n",
              "\n",
              "    .dataframe thead th {\n",
              "        text-align: right;\n",
              "    }\n",
              "</style>\n",
              "<table border=\"1\" class=\"dataframe\">\n",
              "  <thead>\n",
              "    <tr style=\"text-align: right;\">\n",
              "      <th></th>\n",
              "      <th>App</th>\n",
              "      <th>Category</th>\n",
              "      <th>Rating</th>\n",
              "      <th>Reviews</th>\n",
              "      <th>Size_MBs</th>\n",
              "      <th>Installs</th>\n",
              "      <th>Type</th>\n",
              "      <th>Price</th>\n",
              "      <th>Content_Rating</th>\n",
              "      <th>Genres</th>\n",
              "      <th>Android_Ver</th>\n",
              "    </tr>\n",
              "  </thead>\n",
              "  <tbody>\n",
              "    <tr>\n",
              "      <th>10806</th>\n",
              "      <td>Instagram</td>\n",
              "      <td>SOCIAL</td>\n",
              "      <td>4.50</td>\n",
              "      <td>66577313</td>\n",
              "      <td>5.30</td>\n",
              "      <td>1,000,000,000</td>\n",
              "      <td>Free</td>\n",
              "      <td>0</td>\n",
              "      <td>Teen</td>\n",
              "      <td>Social</td>\n",
              "      <td>Varies with device</td>\n",
              "    </tr>\n",
              "    <tr>\n",
              "      <th>10808</th>\n",
              "      <td>Instagram</td>\n",
              "      <td>SOCIAL</td>\n",
              "      <td>4.50</td>\n",
              "      <td>66577446</td>\n",
              "      <td>5.30</td>\n",
              "      <td>1,000,000,000</td>\n",
              "      <td>Free</td>\n",
              "      <td>0</td>\n",
              "      <td>Teen</td>\n",
              "      <td>Social</td>\n",
              "      <td>Varies with device</td>\n",
              "    </tr>\n",
              "    <tr>\n",
              "      <th>10809</th>\n",
              "      <td>Instagram</td>\n",
              "      <td>SOCIAL</td>\n",
              "      <td>4.50</td>\n",
              "      <td>66577313</td>\n",
              "      <td>5.30</td>\n",
              "      <td>1,000,000,000</td>\n",
              "      <td>Free</td>\n",
              "      <td>0</td>\n",
              "      <td>Teen</td>\n",
              "      <td>Social</td>\n",
              "      <td>Varies with device</td>\n",
              "    </tr>\n",
              "    <tr>\n",
              "      <th>10810</th>\n",
              "      <td>Instagram</td>\n",
              "      <td>SOCIAL</td>\n",
              "      <td>4.50</td>\n",
              "      <td>66509917</td>\n",
              "      <td>5.30</td>\n",
              "      <td>1,000,000,000</td>\n",
              "      <td>Free</td>\n",
              "      <td>0</td>\n",
              "      <td>Teen</td>\n",
              "      <td>Social</td>\n",
              "      <td>Varies with device</td>\n",
              "    </tr>\n",
              "  </tbody>\n",
              "</table>\n",
              "</div>"
            ],
            "text/plain": [
              "             App Category  Rating  ...  Content_Rating  Genres         Android_Ver\n",
              "10806  Instagram   SOCIAL    4.50  ...            Teen  Social  Varies with device\n",
              "10808  Instagram   SOCIAL    4.50  ...            Teen  Social  Varies with device\n",
              "10809  Instagram   SOCIAL    4.50  ...            Teen  Social  Varies with device\n",
              "10810  Instagram   SOCIAL    4.50  ...            Teen  Social  Varies with device\n",
              "\n",
              "[4 rows x 11 columns]"
            ]
          },
          "metadata": {},
          "execution_count": 10
        }
      ]
    },
    {
      "cell_type": "code",
      "metadata": {
        "id": "lE7X6KG3n5pR"
      },
      "source": [
        "df_apps_clean = df_apps_clean.drop_duplicates(subset=['App'])\n"
      ],
      "execution_count": null,
      "outputs": []
    },
    {
      "cell_type": "code",
      "metadata": {
        "id": "GK2rP7wgn53-",
        "colab": {
          "base_uri": "https://localhost:8080/",
          "height": 117
        },
        "outputId": "632848c5-bedb-44d7-d044-06f80923daaf"
      },
      "source": [
        "df_apps_clean[df_apps_clean.App == 'Instagram']"
      ],
      "execution_count": null,
      "outputs": [
        {
          "output_type": "execute_result",
          "data": {
            "text/html": [
              "<div>\n",
              "<style scoped>\n",
              "    .dataframe tbody tr th:only-of-type {\n",
              "        vertical-align: middle;\n",
              "    }\n",
              "\n",
              "    .dataframe tbody tr th {\n",
              "        vertical-align: top;\n",
              "    }\n",
              "\n",
              "    .dataframe thead th {\n",
              "        text-align: right;\n",
              "    }\n",
              "</style>\n",
              "<table border=\"1\" class=\"dataframe\">\n",
              "  <thead>\n",
              "    <tr style=\"text-align: right;\">\n",
              "      <th></th>\n",
              "      <th>App</th>\n",
              "      <th>Category</th>\n",
              "      <th>Rating</th>\n",
              "      <th>Reviews</th>\n",
              "      <th>Size_MBs</th>\n",
              "      <th>Installs</th>\n",
              "      <th>Type</th>\n",
              "      <th>Price</th>\n",
              "      <th>Content_Rating</th>\n",
              "      <th>Genres</th>\n",
              "      <th>Android_Ver</th>\n",
              "    </tr>\n",
              "  </thead>\n",
              "  <tbody>\n",
              "    <tr>\n",
              "      <th>10806</th>\n",
              "      <td>Instagram</td>\n",
              "      <td>SOCIAL</td>\n",
              "      <td>4.50</td>\n",
              "      <td>66577313</td>\n",
              "      <td>5.30</td>\n",
              "      <td>1,000,000,000</td>\n",
              "      <td>Free</td>\n",
              "      <td>0</td>\n",
              "      <td>Teen</td>\n",
              "      <td>Social</td>\n",
              "      <td>Varies with device</td>\n",
              "    </tr>\n",
              "  </tbody>\n",
              "</table>\n",
              "</div>"
            ],
            "text/plain": [
              "             App Category  Rating  ...  Content_Rating  Genres         Android_Ver\n",
              "10806  Instagram   SOCIAL    4.50  ...            Teen  Social  Varies with device\n",
              "\n",
              "[1 rows x 11 columns]"
            ]
          },
          "metadata": {},
          "execution_count": 12
        }
      ]
    },
    {
      "cell_type": "code",
      "metadata": {
        "id": "Wtt09kiRn6GS"
      },
      "source": [
        ""
      ],
      "execution_count": null,
      "outputs": []
    },
    {
      "cell_type": "code",
      "metadata": {
        "id": "30yZCwtKn5xC"
      },
      "source": [
        ""
      ],
      "execution_count": null,
      "outputs": []
    },
    {
      "cell_type": "code",
      "metadata": {
        "id": "AagS_wgWn5ib"
      },
      "source": [
        ""
      ],
      "execution_count": null,
      "outputs": []
    },
    {
      "cell_type": "markdown",
      "metadata": {
        "id": "GJrM69CfdiUh"
      },
      "source": [
        "# Find Highest Rated Apps\n",
        "\n",
        "**Challenge**: Identify which apps are the highest rated. What problem might you encounter if you rely exclusively on ratings alone to determine the quality of an app?"
      ]
    },
    {
      "cell_type": "code",
      "metadata": {
        "id": "rp7vFHBMn7st",
        "colab": {
          "base_uri": "https://localhost:8080/",
          "height": 655
        },
        "outputId": "0377c7af-b567-4fd7-9000-66cd55986ef5"
      },
      "source": [
        "df_apps_clean.sort_values(\"Rating\", ascending=False)"
      ],
      "execution_count": null,
      "outputs": [
        {
          "output_type": "execute_result",
          "data": {
            "text/html": [
              "<div>\n",
              "<style scoped>\n",
              "    .dataframe tbody tr th:only-of-type {\n",
              "        vertical-align: middle;\n",
              "    }\n",
              "\n",
              "    .dataframe tbody tr th {\n",
              "        vertical-align: top;\n",
              "    }\n",
              "\n",
              "    .dataframe thead th {\n",
              "        text-align: right;\n",
              "    }\n",
              "</style>\n",
              "<table border=\"1\" class=\"dataframe\">\n",
              "  <thead>\n",
              "    <tr style=\"text-align: right;\">\n",
              "      <th></th>\n",
              "      <th>App</th>\n",
              "      <th>Category</th>\n",
              "      <th>Rating</th>\n",
              "      <th>Reviews</th>\n",
              "      <th>Size_MBs</th>\n",
              "      <th>Installs</th>\n",
              "      <th>Type</th>\n",
              "      <th>Price</th>\n",
              "      <th>Content_Rating</th>\n",
              "      <th>Genres</th>\n",
              "      <th>Android_Ver</th>\n",
              "    </tr>\n",
              "  </thead>\n",
              "  <tbody>\n",
              "    <tr>\n",
              "      <th>21</th>\n",
              "      <td>KBA-EZ Health Guide</td>\n",
              "      <td>MEDICAL</td>\n",
              "      <td>5.00</td>\n",
              "      <td>4</td>\n",
              "      <td>25.00</td>\n",
              "      <td>1</td>\n",
              "      <td>Free</td>\n",
              "      <td>0</td>\n",
              "      <td>Everyone</td>\n",
              "      <td>Medical</td>\n",
              "      <td>4.0.3 and up</td>\n",
              "    </tr>\n",
              "    <tr>\n",
              "      <th>1790</th>\n",
              "      <td>SUMMER SONIC app</td>\n",
              "      <td>EVENTS</td>\n",
              "      <td>5.00</td>\n",
              "      <td>4</td>\n",
              "      <td>61.00</td>\n",
              "      <td>500</td>\n",
              "      <td>Free</td>\n",
              "      <td>0</td>\n",
              "      <td>Everyone</td>\n",
              "      <td>Events</td>\n",
              "      <td>4.4 and up</td>\n",
              "    </tr>\n",
              "    <tr>\n",
              "      <th>1769</th>\n",
              "      <td>Yazdani Cd Center EllahAbad Official App</td>\n",
              "      <td>FAMILY</td>\n",
              "      <td>5.00</td>\n",
              "      <td>8</td>\n",
              "      <td>3.80</td>\n",
              "      <td>500</td>\n",
              "      <td>Free</td>\n",
              "      <td>0</td>\n",
              "      <td>Everyone</td>\n",
              "      <td>Entertainment</td>\n",
              "      <td>4.0 and up</td>\n",
              "    </tr>\n",
              "    <tr>\n",
              "      <th>985</th>\n",
              "      <td>DW Security</td>\n",
              "      <td>BUSINESS</td>\n",
              "      <td>5.00</td>\n",
              "      <td>6</td>\n",
              "      <td>15.00</td>\n",
              "      <td>100</td>\n",
              "      <td>Free</td>\n",
              "      <td>0</td>\n",
              "      <td>Everyone</td>\n",
              "      <td>Business</td>\n",
              "      <td>4.1 and up</td>\n",
              "    </tr>\n",
              "    <tr>\n",
              "      <th>981</th>\n",
              "      <td>EU Exit poll</td>\n",
              "      <td>LIFESTYLE</td>\n",
              "      <td>5.00</td>\n",
              "      <td>10</td>\n",
              "      <td>9.40</td>\n",
              "      <td>100</td>\n",
              "      <td>Free</td>\n",
              "      <td>0</td>\n",
              "      <td>Everyone</td>\n",
              "      <td>Lifestyle</td>\n",
              "      <td>4.1 and up</td>\n",
              "    </tr>\n",
              "    <tr>\n",
              "      <th>...</th>\n",
              "      <td>...</td>\n",
              "      <td>...</td>\n",
              "      <td>...</td>\n",
              "      <td>...</td>\n",
              "      <td>...</td>\n",
              "      <td>...</td>\n",
              "      <td>...</td>\n",
              "      <td>...</td>\n",
              "      <td>...</td>\n",
              "      <td>...</td>\n",
              "      <td>...</td>\n",
              "    </tr>\n",
              "    <tr>\n",
              "      <th>617</th>\n",
              "      <td>DT future1 cam</td>\n",
              "      <td>TOOLS</td>\n",
              "      <td>1.00</td>\n",
              "      <td>1</td>\n",
              "      <td>24.00</td>\n",
              "      <td>50</td>\n",
              "      <td>Free</td>\n",
              "      <td>0</td>\n",
              "      <td>Everyone</td>\n",
              "      <td>Tools</td>\n",
              "      <td>2.2 and up</td>\n",
              "    </tr>\n",
              "    <tr>\n",
              "      <th>1271</th>\n",
              "      <td>MbH BM</td>\n",
              "      <td>MEDICAL</td>\n",
              "      <td>1.00</td>\n",
              "      <td>1</td>\n",
              "      <td>2.30</td>\n",
              "      <td>100</td>\n",
              "      <td>Free</td>\n",
              "      <td>0</td>\n",
              "      <td>Everyone</td>\n",
              "      <td>Medical</td>\n",
              "      <td>4.3 and up</td>\n",
              "    </tr>\n",
              "    <tr>\n",
              "      <th>576</th>\n",
              "      <td>Clarksburg AH</td>\n",
              "      <td>MEDICAL</td>\n",
              "      <td>1.00</td>\n",
              "      <td>1</td>\n",
              "      <td>28.00</td>\n",
              "      <td>50</td>\n",
              "      <td>Free</td>\n",
              "      <td>0</td>\n",
              "      <td>Everyone</td>\n",
              "      <td>Medical</td>\n",
              "      <td>4.0.3 and up</td>\n",
              "    </tr>\n",
              "    <tr>\n",
              "      <th>1208</th>\n",
              "      <td>Thistletown CI</td>\n",
              "      <td>PRODUCTIVITY</td>\n",
              "      <td>1.00</td>\n",
              "      <td>1</td>\n",
              "      <td>6.60</td>\n",
              "      <td>100</td>\n",
              "      <td>Free</td>\n",
              "      <td>0</td>\n",
              "      <td>Everyone</td>\n",
              "      <td>Productivity</td>\n",
              "      <td>4.1 and up</td>\n",
              "    </tr>\n",
              "    <tr>\n",
              "      <th>1314</th>\n",
              "      <td>CR Magazine</td>\n",
              "      <td>BUSINESS</td>\n",
              "      <td>1.00</td>\n",
              "      <td>1</td>\n",
              "      <td>7.80</td>\n",
              "      <td>100</td>\n",
              "      <td>Free</td>\n",
              "      <td>0</td>\n",
              "      <td>Everyone</td>\n",
              "      <td>Business</td>\n",
              "      <td>2.3.3 and up</td>\n",
              "    </tr>\n",
              "  </tbody>\n",
              "</table>\n",
              "<p>8195 rows × 11 columns</p>\n",
              "</div>"
            ],
            "text/plain": [
              "                                           App  ...   Android_Ver\n",
              "21                         KBA-EZ Health Guide  ...  4.0.3 and up\n",
              "1790                          SUMMER SONIC app  ...    4.4 and up\n",
              "1769  Yazdani Cd Center EllahAbad Official App  ...    4.0 and up\n",
              "985                                DW Security  ...    4.1 and up\n",
              "981                               EU Exit poll  ...    4.1 and up\n",
              "...                                        ...  ...           ...\n",
              "617                             DT future1 cam  ...    2.2 and up\n",
              "1271                                    MbH BM  ...    4.3 and up\n",
              "576                              Clarksburg AH  ...  4.0.3 and up\n",
              "1208                            Thistletown CI  ...    4.1 and up\n",
              "1314                               CR Magazine  ...  2.3.3 and up\n",
              "\n",
              "[8195 rows x 11 columns]"
            ]
          },
          "metadata": {},
          "execution_count": 13
        }
      ]
    },
    {
      "cell_type": "markdown",
      "metadata": {
        "id": "28o1Tro4diUi"
      },
      "source": [
        "# Find 5 Largest Apps in terms of Size (MBs)\n",
        "\n",
        "**Challenge**: What's the size in megabytes (MB) of the largest Android apps in the Google Play Store. Based on the data, do you think there could be limit in place or can developers make apps as large as they please? "
      ]
    },
    {
      "cell_type": "code",
      "metadata": {
        "id": "n5r0pJCOn9Vu",
        "colab": {
          "base_uri": "https://localhost:8080/",
          "height": 790
        },
        "outputId": "5dcc4fa2-ef1e-4397-b47c-a9b1f4f9094a"
      },
      "source": [
        "df_apps_clean.sort_values(\"Size_MBs\", ascending=False)"
      ],
      "execution_count": null,
      "outputs": [
        {
          "output_type": "execute_result",
          "data": {
            "text/html": [
              "<div>\n",
              "<style scoped>\n",
              "    .dataframe tbody tr th:only-of-type {\n",
              "        vertical-align: middle;\n",
              "    }\n",
              "\n",
              "    .dataframe tbody tr th {\n",
              "        vertical-align: top;\n",
              "    }\n",
              "\n",
              "    .dataframe thead th {\n",
              "        text-align: right;\n",
              "    }\n",
              "</style>\n",
              "<table border=\"1\" class=\"dataframe\">\n",
              "  <thead>\n",
              "    <tr style=\"text-align: right;\">\n",
              "      <th></th>\n",
              "      <th>App</th>\n",
              "      <th>Category</th>\n",
              "      <th>Rating</th>\n",
              "      <th>Reviews</th>\n",
              "      <th>Size_MBs</th>\n",
              "      <th>Installs</th>\n",
              "      <th>Type</th>\n",
              "      <th>Price</th>\n",
              "      <th>Content_Rating</th>\n",
              "      <th>Genres</th>\n",
              "      <th>Android_Ver</th>\n",
              "    </tr>\n",
              "  </thead>\n",
              "  <tbody>\n",
              "    <tr>\n",
              "      <th>9942</th>\n",
              "      <td>Talking Babsy Baby: Baby Games</td>\n",
              "      <td>LIFESTYLE</td>\n",
              "      <td>4.00</td>\n",
              "      <td>140995</td>\n",
              "      <td>100.00</td>\n",
              "      <td>10,000,000</td>\n",
              "      <td>Free</td>\n",
              "      <td>0</td>\n",
              "      <td>Everyone</td>\n",
              "      <td>Lifestyle;Pretend Play</td>\n",
              "      <td>4.0 and up</td>\n",
              "    </tr>\n",
              "    <tr>\n",
              "      <th>10687</th>\n",
              "      <td>Hungry Shark Evolution</td>\n",
              "      <td>GAME</td>\n",
              "      <td>4.50</td>\n",
              "      <td>6074334</td>\n",
              "      <td>100.00</td>\n",
              "      <td>100,000,000</td>\n",
              "      <td>Free</td>\n",
              "      <td>0</td>\n",
              "      <td>Teen</td>\n",
              "      <td>Arcade</td>\n",
              "      <td>4.1 and up</td>\n",
              "    </tr>\n",
              "    <tr>\n",
              "      <th>9943</th>\n",
              "      <td>Miami crime simulator</td>\n",
              "      <td>GAME</td>\n",
              "      <td>4.00</td>\n",
              "      <td>254518</td>\n",
              "      <td>100.00</td>\n",
              "      <td>10,000,000</td>\n",
              "      <td>Free</td>\n",
              "      <td>0</td>\n",
              "      <td>Mature 17+</td>\n",
              "      <td>Action</td>\n",
              "      <td>4.0 and up</td>\n",
              "    </tr>\n",
              "    <tr>\n",
              "      <th>9944</th>\n",
              "      <td>Gangster Town: Vice District</td>\n",
              "      <td>FAMILY</td>\n",
              "      <td>4.30</td>\n",
              "      <td>65146</td>\n",
              "      <td>100.00</td>\n",
              "      <td>10,000,000</td>\n",
              "      <td>Free</td>\n",
              "      <td>0</td>\n",
              "      <td>Mature 17+</td>\n",
              "      <td>Simulation</td>\n",
              "      <td>4.0 and up</td>\n",
              "    </tr>\n",
              "    <tr>\n",
              "      <th>3144</th>\n",
              "      <td>Vi Trainer</td>\n",
              "      <td>HEALTH_AND_FITNESS</td>\n",
              "      <td>3.60</td>\n",
              "      <td>124</td>\n",
              "      <td>100.00</td>\n",
              "      <td>5,000</td>\n",
              "      <td>Free</td>\n",
              "      <td>0</td>\n",
              "      <td>Everyone</td>\n",
              "      <td>Health &amp; Fitness</td>\n",
              "      <td>5.0 and up</td>\n",
              "    </tr>\n",
              "    <tr>\n",
              "      <th>...</th>\n",
              "      <td>...</td>\n",
              "      <td>...</td>\n",
              "      <td>...</td>\n",
              "      <td>...</td>\n",
              "      <td>...</td>\n",
              "      <td>...</td>\n",
              "      <td>...</td>\n",
              "      <td>...</td>\n",
              "      <td>...</td>\n",
              "      <td>...</td>\n",
              "      <td>...</td>\n",
              "    </tr>\n",
              "    <tr>\n",
              "      <th>2648</th>\n",
              "      <td>Ad Remove Plugin for App2SD</td>\n",
              "      <td>PRODUCTIVITY</td>\n",
              "      <td>4.10</td>\n",
              "      <td>66</td>\n",
              "      <td>0.02</td>\n",
              "      <td>1,000</td>\n",
              "      <td>Paid</td>\n",
              "      <td>$1.29</td>\n",
              "      <td>Everyone</td>\n",
              "      <td>Productivity</td>\n",
              "      <td>2.2 and up</td>\n",
              "    </tr>\n",
              "    <tr>\n",
              "      <th>5798</th>\n",
              "      <td>ExDialer PRO Key</td>\n",
              "      <td>COMMUNICATION</td>\n",
              "      <td>4.50</td>\n",
              "      <td>5474</td>\n",
              "      <td>0.02</td>\n",
              "      <td>100,000</td>\n",
              "      <td>Paid</td>\n",
              "      <td>$3.99</td>\n",
              "      <td>Everyone</td>\n",
              "      <td>Communication</td>\n",
              "      <td>2.1 and up</td>\n",
              "    </tr>\n",
              "    <tr>\n",
              "      <th>2684</th>\n",
              "      <td>My baby firework (Remove ad)</td>\n",
              "      <td>FAMILY</td>\n",
              "      <td>4.10</td>\n",
              "      <td>30</td>\n",
              "      <td>0.01</td>\n",
              "      <td>1,000</td>\n",
              "      <td>Paid</td>\n",
              "      <td>$0.99</td>\n",
              "      <td>Everyone</td>\n",
              "      <td>Entertainment</td>\n",
              "      <td>Varies with device</td>\n",
              "    </tr>\n",
              "    <tr>\n",
              "      <th>7966</th>\n",
              "      <td>Market Update Helper</td>\n",
              "      <td>LIBRARIES_AND_DEMO</td>\n",
              "      <td>4.10</td>\n",
              "      <td>20145</td>\n",
              "      <td>0.01</td>\n",
              "      <td>1,000,000</td>\n",
              "      <td>Free</td>\n",
              "      <td>0</td>\n",
              "      <td>Everyone</td>\n",
              "      <td>Libraries &amp; Demo</td>\n",
              "      <td>1.5 and up</td>\n",
              "    </tr>\n",
              "    <tr>\n",
              "      <th>4696</th>\n",
              "      <td>Essential Resources</td>\n",
              "      <td>LIBRARIES_AND_DEMO</td>\n",
              "      <td>4.60</td>\n",
              "      <td>237</td>\n",
              "      <td>0.01</td>\n",
              "      <td>50,000</td>\n",
              "      <td>Free</td>\n",
              "      <td>0</td>\n",
              "      <td>Everyone</td>\n",
              "      <td>Libraries &amp; Demo</td>\n",
              "      <td>7.1 and up</td>\n",
              "    </tr>\n",
              "  </tbody>\n",
              "</table>\n",
              "<p>8195 rows × 11 columns</p>\n",
              "</div>"
            ],
            "text/plain": [
              "                                  App  ...         Android_Ver\n",
              "9942   Talking Babsy Baby: Baby Games  ...          4.0 and up\n",
              "10687          Hungry Shark Evolution  ...          4.1 and up\n",
              "9943            Miami crime simulator  ...          4.0 and up\n",
              "9944     Gangster Town: Vice District  ...          4.0 and up\n",
              "3144                       Vi Trainer  ...          5.0 and up\n",
              "...                               ...  ...                 ...\n",
              "2648      Ad Remove Plugin for App2SD  ...          2.2 and up\n",
              "5798                 ExDialer PRO Key  ...          2.1 and up\n",
              "2684     My baby firework (Remove ad)  ...  Varies with device\n",
              "7966             Market Update Helper  ...          1.5 and up\n",
              "4696              Essential Resources  ...          7.1 and up\n",
              "\n",
              "[8195 rows x 11 columns]"
            ]
          },
          "metadata": {},
          "execution_count": 14
        }
      ]
    },
    {
      "cell_type": "markdown",
      "metadata": {
        "id": "C3gTckh7diUk"
      },
      "source": [
        "# Find the 5 App with Most Reviews\n",
        "\n",
        "**Challenge**: Which apps have the highest number of reviews? Are there any paid apps among the top 50?"
      ]
    },
    {
      "cell_type": "code",
      "metadata": {
        "id": "TLt98G0Sn_De",
        "colab": {
          "base_uri": "https://localhost:8080/",
          "height": 1000
        },
        "outputId": "77d3d472-e963-4544-fe5a-3cd2dfa29059"
      },
      "source": [
        "df_apps_clean.sort_values(\"Reviews\", ascending=False)[:50]"
      ],
      "execution_count": null,
      "outputs": [
        {
          "output_type": "execute_result",
          "data": {
            "text/html": [
              "<div>\n",
              "<style scoped>\n",
              "    .dataframe tbody tr th:only-of-type {\n",
              "        vertical-align: middle;\n",
              "    }\n",
              "\n",
              "    .dataframe tbody tr th {\n",
              "        vertical-align: top;\n",
              "    }\n",
              "\n",
              "    .dataframe thead th {\n",
              "        text-align: right;\n",
              "    }\n",
              "</style>\n",
              "<table border=\"1\" class=\"dataframe\">\n",
              "  <thead>\n",
              "    <tr style=\"text-align: right;\">\n",
              "      <th></th>\n",
              "      <th>App</th>\n",
              "      <th>Category</th>\n",
              "      <th>Rating</th>\n",
              "      <th>Reviews</th>\n",
              "      <th>Size_MBs</th>\n",
              "      <th>Installs</th>\n",
              "      <th>Type</th>\n",
              "      <th>Price</th>\n",
              "      <th>Content_Rating</th>\n",
              "      <th>Genres</th>\n",
              "      <th>Android_Ver</th>\n",
              "    </tr>\n",
              "  </thead>\n",
              "  <tbody>\n",
              "    <tr>\n",
              "      <th>10805</th>\n",
              "      <td>Facebook</td>\n",
              "      <td>SOCIAL</td>\n",
              "      <td>4.10</td>\n",
              "      <td>78158306</td>\n",
              "      <td>5.30</td>\n",
              "      <td>1,000,000,000</td>\n",
              "      <td>Free</td>\n",
              "      <td>0</td>\n",
              "      <td>Teen</td>\n",
              "      <td>Social</td>\n",
              "      <td>Varies with device</td>\n",
              "    </tr>\n",
              "    <tr>\n",
              "      <th>10785</th>\n",
              "      <td>WhatsApp Messenger</td>\n",
              "      <td>COMMUNICATION</td>\n",
              "      <td>4.40</td>\n",
              "      <td>69119316</td>\n",
              "      <td>3.50</td>\n",
              "      <td>1,000,000,000</td>\n",
              "      <td>Free</td>\n",
              "      <td>0</td>\n",
              "      <td>Everyone</td>\n",
              "      <td>Communication</td>\n",
              "      <td>Varies with device</td>\n",
              "    </tr>\n",
              "    <tr>\n",
              "      <th>10806</th>\n",
              "      <td>Instagram</td>\n",
              "      <td>SOCIAL</td>\n",
              "      <td>4.50</td>\n",
              "      <td>66577313</td>\n",
              "      <td>5.30</td>\n",
              "      <td>1,000,000,000</td>\n",
              "      <td>Free</td>\n",
              "      <td>0</td>\n",
              "      <td>Teen</td>\n",
              "      <td>Social</td>\n",
              "      <td>Varies with device</td>\n",
              "    </tr>\n",
              "    <tr>\n",
              "      <th>10784</th>\n",
              "      <td>Messenger – Text and Video Chat for Free</td>\n",
              "      <td>COMMUNICATION</td>\n",
              "      <td>4.00</td>\n",
              "      <td>56642847</td>\n",
              "      <td>3.50</td>\n",
              "      <td>1,000,000,000</td>\n",
              "      <td>Free</td>\n",
              "      <td>0</td>\n",
              "      <td>Everyone</td>\n",
              "      <td>Communication</td>\n",
              "      <td>Varies with device</td>\n",
              "    </tr>\n",
              "    <tr>\n",
              "      <th>10650</th>\n",
              "      <td>Clash of Clans</td>\n",
              "      <td>GAME</td>\n",
              "      <td>4.60</td>\n",
              "      <td>44891723</td>\n",
              "      <td>98.00</td>\n",
              "      <td>100,000,000</td>\n",
              "      <td>Free</td>\n",
              "      <td>0</td>\n",
              "      <td>Everyone 10+</td>\n",
              "      <td>Strategy</td>\n",
              "      <td>4.1 and up</td>\n",
              "    </tr>\n",
              "    <tr>\n",
              "      <th>10744</th>\n",
              "      <td>Clean Master- Space Cleaner &amp; Antivirus</td>\n",
              "      <td>TOOLS</td>\n",
              "      <td>4.70</td>\n",
              "      <td>42916526</td>\n",
              "      <td>3.40</td>\n",
              "      <td>500,000,000</td>\n",
              "      <td>Free</td>\n",
              "      <td>0</td>\n",
              "      <td>Everyone</td>\n",
              "      <td>Tools</td>\n",
              "      <td>Varies with device</td>\n",
              "    </tr>\n",
              "    <tr>\n",
              "      <th>10835</th>\n",
              "      <td>Subway Surfers</td>\n",
              "      <td>GAME</td>\n",
              "      <td>4.50</td>\n",
              "      <td>27722264</td>\n",
              "      <td>76.00</td>\n",
              "      <td>1,000,000,000</td>\n",
              "      <td>Free</td>\n",
              "      <td>0</td>\n",
              "      <td>Everyone 10+</td>\n",
              "      <td>Arcade</td>\n",
              "      <td>4.1 and up</td>\n",
              "    </tr>\n",
              "    <tr>\n",
              "      <th>10828</th>\n",
              "      <td>YouTube</td>\n",
              "      <td>VIDEO_PLAYERS</td>\n",
              "      <td>4.30</td>\n",
              "      <td>25655305</td>\n",
              "      <td>4.65</td>\n",
              "      <td>1,000,000,000</td>\n",
              "      <td>Free</td>\n",
              "      <td>0</td>\n",
              "      <td>Teen</td>\n",
              "      <td>Video Players &amp; Editors</td>\n",
              "      <td>Varies with device</td>\n",
              "    </tr>\n",
              "    <tr>\n",
              "      <th>10746</th>\n",
              "      <td>Security Master - Antivirus, VPN, AppLock, Boo...</td>\n",
              "      <td>TOOLS</td>\n",
              "      <td>4.70</td>\n",
              "      <td>24900999</td>\n",
              "      <td>3.40</td>\n",
              "      <td>500,000,000</td>\n",
              "      <td>Free</td>\n",
              "      <td>0</td>\n",
              "      <td>Everyone</td>\n",
              "      <td>Tools</td>\n",
              "      <td>Varies with device</td>\n",
              "    </tr>\n",
              "    <tr>\n",
              "      <th>10584</th>\n",
              "      <td>Clash Royale</td>\n",
              "      <td>GAME</td>\n",
              "      <td>4.60</td>\n",
              "      <td>23133508</td>\n",
              "      <td>97.00</td>\n",
              "      <td>100,000,000</td>\n",
              "      <td>Free</td>\n",
              "      <td>0</td>\n",
              "      <td>Everyone 10+</td>\n",
              "      <td>Strategy</td>\n",
              "      <td>4.1 and up</td>\n",
              "    </tr>\n",
              "    <tr>\n",
              "      <th>10763</th>\n",
              "      <td>Candy Crush Saga</td>\n",
              "      <td>GAME</td>\n",
              "      <td>4.40</td>\n",
              "      <td>22426677</td>\n",
              "      <td>74.00</td>\n",
              "      <td>500,000,000</td>\n",
              "      <td>Free</td>\n",
              "      <td>0</td>\n",
              "      <td>Everyone</td>\n",
              "      <td>Casual</td>\n",
              "      <td>4.1 and up</td>\n",
              "    </tr>\n",
              "    <tr>\n",
              "      <th>10770</th>\n",
              "      <td>UC Browser - Fast Download Private &amp; Secure</td>\n",
              "      <td>COMMUNICATION</td>\n",
              "      <td>4.50</td>\n",
              "      <td>17712922</td>\n",
              "      <td>40.00</td>\n",
              "      <td>500,000,000</td>\n",
              "      <td>Free</td>\n",
              "      <td>0</td>\n",
              "      <td>Teen</td>\n",
              "      <td>Communication</td>\n",
              "      <td>4.0 and up</td>\n",
              "    </tr>\n",
              "    <tr>\n",
              "      <th>10735</th>\n",
              "      <td>Snapchat</td>\n",
              "      <td>SOCIAL</td>\n",
              "      <td>4.00</td>\n",
              "      <td>17014787</td>\n",
              "      <td>5.30</td>\n",
              "      <td>500,000,000</td>\n",
              "      <td>Free</td>\n",
              "      <td>0</td>\n",
              "      <td>Teen</td>\n",
              "      <td>Social</td>\n",
              "      <td>Varies with device</td>\n",
              "    </tr>\n",
              "    <tr>\n",
              "      <th>10489</th>\n",
              "      <td>360 Security - Free Antivirus, Booster, Cleaner</td>\n",
              "      <td>TOOLS</td>\n",
              "      <td>4.60</td>\n",
              "      <td>16771865</td>\n",
              "      <td>3.40</td>\n",
              "      <td>100,000,000</td>\n",
              "      <td>Free</td>\n",
              "      <td>0</td>\n",
              "      <td>Everyone</td>\n",
              "      <td>Tools</td>\n",
              "      <td>Varies with device</td>\n",
              "    </tr>\n",
              "    <tr>\n",
              "      <th>10731</th>\n",
              "      <td>My Talking Tom</td>\n",
              "      <td>GAME</td>\n",
              "      <td>4.50</td>\n",
              "      <td>14891223</td>\n",
              "      <td>36.00</td>\n",
              "      <td>500,000,000</td>\n",
              "      <td>Free</td>\n",
              "      <td>0</td>\n",
              "      <td>Everyone</td>\n",
              "      <td>Casual</td>\n",
              "      <td>4.1 and up</td>\n",
              "    </tr>\n",
              "    <tr>\n",
              "      <th>10594</th>\n",
              "      <td>8 Ball Pool</td>\n",
              "      <td>GAME</td>\n",
              "      <td>4.50</td>\n",
              "      <td>14198297</td>\n",
              "      <td>52.00</td>\n",
              "      <td>100,000,000</td>\n",
              "      <td>Free</td>\n",
              "      <td>0</td>\n",
              "      <td>Everyone</td>\n",
              "      <td>Sports</td>\n",
              "      <td>4.0.3 and up</td>\n",
              "    </tr>\n",
              "    <tr>\n",
              "      <th>10302</th>\n",
              "      <td>DU Battery Saver - Battery Charger &amp; Battery Life</td>\n",
              "      <td>TOOLS</td>\n",
              "      <td>4.50</td>\n",
              "      <td>13479633</td>\n",
              "      <td>14.00</td>\n",
              "      <td>100,000,000</td>\n",
              "      <td>Free</td>\n",
              "      <td>0</td>\n",
              "      <td>Everyone</td>\n",
              "      <td>Tools</td>\n",
              "      <td>4.0 and up</td>\n",
              "    </tr>\n",
              "    <tr>\n",
              "      <th>10354</th>\n",
              "      <td>BBM - Free Calls &amp; Messages</td>\n",
              "      <td>COMMUNICATION</td>\n",
              "      <td>4.30</td>\n",
              "      <td>12842860</td>\n",
              "      <td>3.50</td>\n",
              "      <td>100,000,000</td>\n",
              "      <td>Free</td>\n",
              "      <td>0</td>\n",
              "      <td>Everyone</td>\n",
              "      <td>Communication</td>\n",
              "      <td>4.0.3 and up</td>\n",
              "    </tr>\n",
              "    <tr>\n",
              "      <th>10549</th>\n",
              "      <td>Cache Cleaner-DU Speed Booster (booster &amp; clea...</td>\n",
              "      <td>TOOLS</td>\n",
              "      <td>4.50</td>\n",
              "      <td>12759663</td>\n",
              "      <td>15.00</td>\n",
              "      <td>100,000,000</td>\n",
              "      <td>Free</td>\n",
              "      <td>0</td>\n",
              "      <td>Everyone</td>\n",
              "      <td>Tools</td>\n",
              "      <td>4.0 and up</td>\n",
              "    </tr>\n",
              "    <tr>\n",
              "      <th>10757</th>\n",
              "      <td>Twitter</td>\n",
              "      <td>NEWS_AND_MAGAZINES</td>\n",
              "      <td>4.30</td>\n",
              "      <td>11667403</td>\n",
              "      <td>6.30</td>\n",
              "      <td>500,000,000</td>\n",
              "      <td>Free</td>\n",
              "      <td>0</td>\n",
              "      <td>Mature 17+</td>\n",
              "      <td>News &amp; Magazines</td>\n",
              "      <td>Varies with device</td>\n",
              "    </tr>\n",
              "    <tr>\n",
              "      <th>10721</th>\n",
              "      <td>Viber Messenger</td>\n",
              "      <td>COMMUNICATION</td>\n",
              "      <td>4.30</td>\n",
              "      <td>11334799</td>\n",
              "      <td>3.50</td>\n",
              "      <td>500,000,000</td>\n",
              "      <td>Free</td>\n",
              "      <td>0</td>\n",
              "      <td>Everyone</td>\n",
              "      <td>Communication</td>\n",
              "      <td>Varies with device</td>\n",
              "    </tr>\n",
              "    <tr>\n",
              "      <th>10578</th>\n",
              "      <td>Shadow Fight 2</td>\n",
              "      <td>GAME</td>\n",
              "      <td>4.60</td>\n",
              "      <td>10979062</td>\n",
              "      <td>88.00</td>\n",
              "      <td>100,000,000</td>\n",
              "      <td>Free</td>\n",
              "      <td>0</td>\n",
              "      <td>Everyone 10+</td>\n",
              "      <td>Action</td>\n",
              "      <td>3.0 and up</td>\n",
              "    </tr>\n",
              "    <tr>\n",
              "      <th>10813</th>\n",
              "      <td>Google Photos</td>\n",
              "      <td>PHOTOGRAPHY</td>\n",
              "      <td>4.50</td>\n",
              "      <td>10858556</td>\n",
              "      <td>6.90</td>\n",
              "      <td>1,000,000,000</td>\n",
              "      <td>Free</td>\n",
              "      <td>0</td>\n",
              "      <td>Everyone</td>\n",
              "      <td>Photography</td>\n",
              "      <td>Varies with device</td>\n",
              "    </tr>\n",
              "    <tr>\n",
              "      <th>10724</th>\n",
              "      <td>LINE: Free Calls &amp; Messages</td>\n",
              "      <td>COMMUNICATION</td>\n",
              "      <td>4.20</td>\n",
              "      <td>10790289</td>\n",
              "      <td>3.50</td>\n",
              "      <td>500,000,000</td>\n",
              "      <td>Free</td>\n",
              "      <td>0</td>\n",
              "      <td>Everyone</td>\n",
              "      <td>Communication</td>\n",
              "      <td>Varies with device</td>\n",
              "    </tr>\n",
              "    <tr>\n",
              "      <th>10717</th>\n",
              "      <td>Pou</td>\n",
              "      <td>GAME</td>\n",
              "      <td>4.30</td>\n",
              "      <td>10485308</td>\n",
              "      <td>24.00</td>\n",
              "      <td>500,000,000</td>\n",
              "      <td>Free</td>\n",
              "      <td>0</td>\n",
              "      <td>Everyone</td>\n",
              "      <td>Casual</td>\n",
              "      <td>4.0 and up</td>\n",
              "    </tr>\n",
              "    <tr>\n",
              "      <th>10792</th>\n",
              "      <td>Skype - free IM &amp; video calls</td>\n",
              "      <td>COMMUNICATION</td>\n",
              "      <td>4.10</td>\n",
              "      <td>10484169</td>\n",
              "      <td>3.50</td>\n",
              "      <td>1,000,000,000</td>\n",
              "      <td>Free</td>\n",
              "      <td>0</td>\n",
              "      <td>Everyone</td>\n",
              "      <td>Communication</td>\n",
              "      <td>Varies with device</td>\n",
              "    </tr>\n",
              "    <tr>\n",
              "      <th>10628</th>\n",
              "      <td>Pokémon GO</td>\n",
              "      <td>GAME</td>\n",
              "      <td>4.10</td>\n",
              "      <td>10424925</td>\n",
              "      <td>85.00</td>\n",
              "      <td>100,000,000</td>\n",
              "      <td>Free</td>\n",
              "      <td>0</td>\n",
              "      <td>Everyone</td>\n",
              "      <td>Adventure</td>\n",
              "      <td>4.4 and up</td>\n",
              "    </tr>\n",
              "    <tr>\n",
              "      <th>10388</th>\n",
              "      <td>Minion Rush: Despicable Me Official Game</td>\n",
              "      <td>GAME</td>\n",
              "      <td>4.50</td>\n",
              "      <td>10216538</td>\n",
              "      <td>36.00</td>\n",
              "      <td>100,000,000</td>\n",
              "      <td>Free</td>\n",
              "      <td>0</td>\n",
              "      <td>Everyone 10+</td>\n",
              "      <td>Casual;Action &amp; Adventure</td>\n",
              "      <td>Varies with device</td>\n",
              "    </tr>\n",
              "    <tr>\n",
              "      <th>10694</th>\n",
              "      <td>Yes day</td>\n",
              "      <td>GAME</td>\n",
              "      <td>4.50</td>\n",
              "      <td>10055521</td>\n",
              "      <td>94.00</td>\n",
              "      <td>100,000,000</td>\n",
              "      <td>Free</td>\n",
              "      <td>0</td>\n",
              "      <td>Everyone</td>\n",
              "      <td>Casual</td>\n",
              "      <td>4.0.3 and up</td>\n",
              "    </tr>\n",
              "    <tr>\n",
              "      <th>10695</th>\n",
              "      <td>Hay Day</td>\n",
              "      <td>FAMILY</td>\n",
              "      <td>4.50</td>\n",
              "      <td>10053186</td>\n",
              "      <td>94.00</td>\n",
              "      <td>100,000,000</td>\n",
              "      <td>Free</td>\n",
              "      <td>0</td>\n",
              "      <td>Everyone</td>\n",
              "      <td>Casual</td>\n",
              "      <td>4.0.3 and up</td>\n",
              "    </tr>\n",
              "    <tr>\n",
              "      <th>10644</th>\n",
              "      <td>Dream League Soccer 2018</td>\n",
              "      <td>GAME</td>\n",
              "      <td>4.60</td>\n",
              "      <td>9882639</td>\n",
              "      <td>74.00</td>\n",
              "      <td>100,000,000</td>\n",
              "      <td>Free</td>\n",
              "      <td>0</td>\n",
              "      <td>Everyone</td>\n",
              "      <td>Sports</td>\n",
              "      <td>4.4 and up</td>\n",
              "    </tr>\n",
              "    <tr>\n",
              "      <th>10696</th>\n",
              "      <td>My Talking Angela</td>\n",
              "      <td>GAME</td>\n",
              "      <td>4.50</td>\n",
              "      <td>9881829</td>\n",
              "      <td>99.00</td>\n",
              "      <td>100,000,000</td>\n",
              "      <td>Free</td>\n",
              "      <td>0</td>\n",
              "      <td>Everyone</td>\n",
              "      <td>Casual</td>\n",
              "      <td>4.1 and up</td>\n",
              "    </tr>\n",
              "    <tr>\n",
              "      <th>10660</th>\n",
              "      <td>VivaVideo - Video Editor &amp; Photo Movie</td>\n",
              "      <td>VIDEO_PLAYERS</td>\n",
              "      <td>4.60</td>\n",
              "      <td>9879473</td>\n",
              "      <td>40.00</td>\n",
              "      <td>100,000,000</td>\n",
              "      <td>Free</td>\n",
              "      <td>0</td>\n",
              "      <td>Teen</td>\n",
              "      <td>Video Players &amp; Editors</td>\n",
              "      <td>4.1 and up</td>\n",
              "    </tr>\n",
              "    <tr>\n",
              "      <th>10786</th>\n",
              "      <td>Google Chrome: Fast &amp; Secure</td>\n",
              "      <td>COMMUNICATION</td>\n",
              "      <td>4.30</td>\n",
              "      <td>9642995</td>\n",
              "      <td>3.50</td>\n",
              "      <td>1,000,000,000</td>\n",
              "      <td>Free</td>\n",
              "      <td>0</td>\n",
              "      <td>Everyone</td>\n",
              "      <td>Communication</td>\n",
              "      <td>Varies with device</td>\n",
              "    </tr>\n",
              "    <tr>\n",
              "      <th>10817</th>\n",
              "      <td>Maps - Navigate &amp; Explore</td>\n",
              "      <td>TRAVEL_AND_LOCAL</td>\n",
              "      <td>4.30</td>\n",
              "      <td>9235155</td>\n",
              "      <td>12.00</td>\n",
              "      <td>1,000,000,000</td>\n",
              "      <td>Free</td>\n",
              "      <td>0</td>\n",
              "      <td>Everyone</td>\n",
              "      <td>Travel &amp; Local</td>\n",
              "      <td>Varies with device</td>\n",
              "    </tr>\n",
              "    <tr>\n",
              "      <th>10672</th>\n",
              "      <td>Hill Climb Racing</td>\n",
              "      <td>GAME</td>\n",
              "      <td>4.40</td>\n",
              "      <td>8923587</td>\n",
              "      <td>63.00</td>\n",
              "      <td>100,000,000</td>\n",
              "      <td>Free</td>\n",
              "      <td>0</td>\n",
              "      <td>Everyone</td>\n",
              "      <td>Racing</td>\n",
              "      <td>4.2 and up</td>\n",
              "    </tr>\n",
              "    <tr>\n",
              "      <th>10734</th>\n",
              "      <td>Facebook Lite</td>\n",
              "      <td>SOCIAL</td>\n",
              "      <td>4.30</td>\n",
              "      <td>8606259</td>\n",
              "      <td>5.30</td>\n",
              "      <td>500,000,000</td>\n",
              "      <td>Free</td>\n",
              "      <td>0</td>\n",
              "      <td>Teen</td>\n",
              "      <td>Social</td>\n",
              "      <td>Varies with device</td>\n",
              "    </tr>\n",
              "    <tr>\n",
              "      <th>10649</th>\n",
              "      <td>Asphalt 8: Airborne</td>\n",
              "      <td>GAME</td>\n",
              "      <td>4.50</td>\n",
              "      <td>8389714</td>\n",
              "      <td>92.00</td>\n",
              "      <td>100,000,000</td>\n",
              "      <td>Free</td>\n",
              "      <td>0</td>\n",
              "      <td>Teen</td>\n",
              "      <td>Racing</td>\n",
              "      <td>4.0.3 and up</td>\n",
              "    </tr>\n",
              "    <tr>\n",
              "      <th>10699</th>\n",
              "      <td>Mobile Legends: Bang Bang</td>\n",
              "      <td>GAME</td>\n",
              "      <td>4.40</td>\n",
              "      <td>8219586</td>\n",
              "      <td>99.00</td>\n",
              "      <td>100,000,000</td>\n",
              "      <td>Free</td>\n",
              "      <td>0</td>\n",
              "      <td>Teen</td>\n",
              "      <td>Action</td>\n",
              "      <td>4.0.3 and up</td>\n",
              "    </tr>\n",
              "    <tr>\n",
              "      <th>10322</th>\n",
              "      <td>Battery Doctor-Battery Life Saver &amp; Battery Co...</td>\n",
              "      <td>TOOLS</td>\n",
              "      <td>4.50</td>\n",
              "      <td>8190074</td>\n",
              "      <td>17.00</td>\n",
              "      <td>100,000,000</td>\n",
              "      <td>Free</td>\n",
              "      <td>0</td>\n",
              "      <td>Everyone</td>\n",
              "      <td>Tools</td>\n",
              "      <td>4.0 and up</td>\n",
              "    </tr>\n",
              "    <tr>\n",
              "      <th>10396</th>\n",
              "      <td>Piano Tiles 2™</td>\n",
              "      <td>GAME</td>\n",
              "      <td>4.70</td>\n",
              "      <td>8118880</td>\n",
              "      <td>36.00</td>\n",
              "      <td>100,000,000</td>\n",
              "      <td>Free</td>\n",
              "      <td>0</td>\n",
              "      <td>Everyone</td>\n",
              "      <td>Arcade</td>\n",
              "      <td>4.1 and up</td>\n",
              "    </tr>\n",
              "    <tr>\n",
              "      <th>10777</th>\n",
              "      <td>Temple Run 2</td>\n",
              "      <td>GAME</td>\n",
              "      <td>4.30</td>\n",
              "      <td>8118609</td>\n",
              "      <td>62.00</td>\n",
              "      <td>500,000,000</td>\n",
              "      <td>Free</td>\n",
              "      <td>0</td>\n",
              "      <td>Everyone</td>\n",
              "      <td>Action</td>\n",
              "      <td>4.0 and up</td>\n",
              "    </tr>\n",
              "    <tr>\n",
              "      <th>10822</th>\n",
              "      <td>Google</td>\n",
              "      <td>TOOLS</td>\n",
              "      <td>4.40</td>\n",
              "      <td>8033493</td>\n",
              "      <td>3.40</td>\n",
              "      <td>1,000,000,000</td>\n",
              "      <td>Free</td>\n",
              "      <td>0</td>\n",
              "      <td>Everyone</td>\n",
              "      <td>Tools</td>\n",
              "      <td>Varies with device</td>\n",
              "    </tr>\n",
              "    <tr>\n",
              "      <th>10359</th>\n",
              "      <td>Truecaller: Caller ID, SMS spam blocking &amp; Dialer</td>\n",
              "      <td>COMMUNICATION</td>\n",
              "      <td>4.50</td>\n",
              "      <td>7820209</td>\n",
              "      <td>3.50</td>\n",
              "      <td>100,000,000</td>\n",
              "      <td>Free</td>\n",
              "      <td>0</td>\n",
              "      <td>Everyone</td>\n",
              "      <td>Communication</td>\n",
              "      <td>Varies with device</td>\n",
              "    </tr>\n",
              "    <tr>\n",
              "      <th>10711</th>\n",
              "      <td>SHAREit - Transfer &amp; Share</td>\n",
              "      <td>TOOLS</td>\n",
              "      <td>4.60</td>\n",
              "      <td>7790693</td>\n",
              "      <td>17.00</td>\n",
              "      <td>500,000,000</td>\n",
              "      <td>Free</td>\n",
              "      <td>0</td>\n",
              "      <td>Everyone</td>\n",
              "      <td>Tools</td>\n",
              "      <td>4.1 and up</td>\n",
              "    </tr>\n",
              "    <tr>\n",
              "      <th>10389</th>\n",
              "      <td>Sniper 3D Gun Shooter: Free Shooting Games - FPS</td>\n",
              "      <td>GAME</td>\n",
              "      <td>4.60</td>\n",
              "      <td>7671249</td>\n",
              "      <td>36.00</td>\n",
              "      <td>100,000,000</td>\n",
              "      <td>Free</td>\n",
              "      <td>0</td>\n",
              "      <td>Mature 17+</td>\n",
              "      <td>Action</td>\n",
              "      <td>Varies with device</td>\n",
              "    </tr>\n",
              "    <tr>\n",
              "      <th>10676</th>\n",
              "      <td>Farm Heroes Saga</td>\n",
              "      <td>GAME</td>\n",
              "      <td>4.40</td>\n",
              "      <td>7614130</td>\n",
              "      <td>70.00</td>\n",
              "      <td>100,000,000</td>\n",
              "      <td>Free</td>\n",
              "      <td>0</td>\n",
              "      <td>Everyone</td>\n",
              "      <td>Casual</td>\n",
              "      <td>2.3 and up</td>\n",
              "    </tr>\n",
              "    <tr>\n",
              "      <th>10576</th>\n",
              "      <td>PicsArt Photo Studio: Collage Maker &amp; Pic Editor</td>\n",
              "      <td>PHOTOGRAPHY</td>\n",
              "      <td>4.50</td>\n",
              "      <td>7594559</td>\n",
              "      <td>34.00</td>\n",
              "      <td>100,000,000</td>\n",
              "      <td>Free</td>\n",
              "      <td>0</td>\n",
              "      <td>Teen</td>\n",
              "      <td>Photography</td>\n",
              "      <td>4.0.3 and up</td>\n",
              "    </tr>\n",
              "    <tr>\n",
              "      <th>10461</th>\n",
              "      <td>PhotoGrid: Video &amp; Pic Collage Maker, Photo Ed...</td>\n",
              "      <td>PHOTOGRAPHY</td>\n",
              "      <td>4.60</td>\n",
              "      <td>7529865</td>\n",
              "      <td>6.90</td>\n",
              "      <td>100,000,000</td>\n",
              "      <td>Free</td>\n",
              "      <td>0</td>\n",
              "      <td>Everyone</td>\n",
              "      <td>Photography</td>\n",
              "      <td>Varies with device</td>\n",
              "    </tr>\n",
              "    <tr>\n",
              "      <th>10502</th>\n",
              "      <td>GO Launcher - 3D parallax Themes &amp; HD Wallpapers</td>\n",
              "      <td>PERSONALIZATION</td>\n",
              "      <td>4.50</td>\n",
              "      <td>7464996</td>\n",
              "      <td>6.15</td>\n",
              "      <td>100,000,000</td>\n",
              "      <td>Free</td>\n",
              "      <td>0</td>\n",
              "      <td>Everyone</td>\n",
              "      <td>Personalization</td>\n",
              "      <td>Varies with device</td>\n",
              "    </tr>\n",
              "  </tbody>\n",
              "</table>\n",
              "</div>"
            ],
            "text/plain": [
              "                                                     App  ...         Android_Ver\n",
              "10805                                           Facebook  ...  Varies with device\n",
              "10785                                 WhatsApp Messenger  ...  Varies with device\n",
              "10806                                          Instagram  ...  Varies with device\n",
              "10784           Messenger – Text and Video Chat for Free  ...  Varies with device\n",
              "10650                                     Clash of Clans  ...          4.1 and up\n",
              "10744            Clean Master- Space Cleaner & Antivirus  ...  Varies with device\n",
              "10835                                     Subway Surfers  ...          4.1 and up\n",
              "10828                                            YouTube  ...  Varies with device\n",
              "10746  Security Master - Antivirus, VPN, AppLock, Boo...  ...  Varies with device\n",
              "10584                                       Clash Royale  ...          4.1 and up\n",
              "10763                                   Candy Crush Saga  ...          4.1 and up\n",
              "10770        UC Browser - Fast Download Private & Secure  ...          4.0 and up\n",
              "10735                                           Snapchat  ...  Varies with device\n",
              "10489    360 Security - Free Antivirus, Booster, Cleaner  ...  Varies with device\n",
              "10731                                     My Talking Tom  ...          4.1 and up\n",
              "10594                                        8 Ball Pool  ...        4.0.3 and up\n",
              "10302  DU Battery Saver - Battery Charger & Battery Life  ...          4.0 and up\n",
              "10354                        BBM - Free Calls & Messages  ...        4.0.3 and up\n",
              "10549  Cache Cleaner-DU Speed Booster (booster & clea...  ...          4.0 and up\n",
              "10757                                            Twitter  ...  Varies with device\n",
              "10721                                    Viber Messenger  ...  Varies with device\n",
              "10578                                     Shadow Fight 2  ...          3.0 and up\n",
              "10813                                      Google Photos  ...  Varies with device\n",
              "10724                        LINE: Free Calls & Messages  ...  Varies with device\n",
              "10717                                                Pou  ...          4.0 and up\n",
              "10792                      Skype - free IM & video calls  ...  Varies with device\n",
              "10628                                         Pokémon GO  ...          4.4 and up\n",
              "10388           Minion Rush: Despicable Me Official Game  ...  Varies with device\n",
              "10694                                            Yes day  ...        4.0.3 and up\n",
              "10695                                            Hay Day  ...        4.0.3 and up\n",
              "10644                           Dream League Soccer 2018  ...          4.4 and up\n",
              "10696                                  My Talking Angela  ...          4.1 and up\n",
              "10660             VivaVideo - Video Editor & Photo Movie  ...          4.1 and up\n",
              "10786                       Google Chrome: Fast & Secure  ...  Varies with device\n",
              "10817                          Maps - Navigate & Explore  ...  Varies with device\n",
              "10672                                  Hill Climb Racing  ...          4.2 and up\n",
              "10734                                      Facebook Lite  ...  Varies with device\n",
              "10649                                Asphalt 8: Airborne  ...        4.0.3 and up\n",
              "10699                          Mobile Legends: Bang Bang  ...        4.0.3 and up\n",
              "10322  Battery Doctor-Battery Life Saver & Battery Co...  ...          4.0 and up\n",
              "10396                                     Piano Tiles 2™  ...          4.1 and up\n",
              "10777                                       Temple Run 2  ...          4.0 and up\n",
              "10822                                             Google  ...  Varies with device\n",
              "10359  Truecaller: Caller ID, SMS spam blocking & Dialer  ...  Varies with device\n",
              "10711                         SHAREit - Transfer & Share  ...          4.1 and up\n",
              "10389   Sniper 3D Gun Shooter: Free Shooting Games - FPS  ...  Varies with device\n",
              "10676                                   Farm Heroes Saga  ...          2.3 and up\n",
              "10576   PicsArt Photo Studio: Collage Maker & Pic Editor  ...        4.0.3 and up\n",
              "10461  PhotoGrid: Video & Pic Collage Maker, Photo Ed...  ...  Varies with device\n",
              "10502   GO Launcher - 3D parallax Themes & HD Wallpapers  ...  Varies with device\n",
              "\n",
              "[50 rows x 11 columns]"
            ]
          },
          "metadata": {},
          "execution_count": 15
        }
      ]
    },
    {
      "cell_type": "markdown",
      "metadata": {
        "id": "BFoRqpezjebe"
      },
      "source": [
        "# Plotly Pie and Donut Charts - Visualise Categorical Data: Content Ratings"
      ]
    },
    {
      "cell_type": "code",
      "metadata": {
        "id": "c0IIxNGnoFKM"
      },
      "source": [
        "ratings = df_apps_clean.Content_Rating.value_counts()\n",
        "df_apps_clean.loc[df_apps_clean.Content_Rating == 'Adults only 18+', 'Content_Rating'] = \"For adults only\"\n",
        "ratings"
      ],
      "execution_count": null,
      "outputs": []
    },
    {
      "cell_type": "code",
      "metadata": {
        "id": "TSiV6ZkjoFVg",
        "colab": {
          "base_uri": "https://localhost:8080/",
          "height": 542
        },
        "outputId": "37a992de-5885-4a23-9906-8082a363bf54"
      },
      "source": [
        "fig = px.pie(ratings, values=ratings.values, names=ratings.index, labels=ratings.index, title='Types of apps based on age', hole=0.4)\n",
        "fig.update_traces(hoverinfo='value+percent', textinfo='label+percent', textfont_size=20, textposition='outside')\n",
        "fig.show()"
      ],
      "execution_count": null,
      "outputs": [
        {
          "output_type": "display_data",
          "data": {
            "text/html": [
              "<html>\n",
              "<head><meta charset=\"utf-8\" /></head>\n",
              "<body>\n",
              "    <div>\n",
              "            <script src=\"https://cdnjs.cloudflare.com/ajax/libs/mathjax/2.7.5/MathJax.js?config=TeX-AMS-MML_SVG\"></script><script type=\"text/javascript\">if (window.MathJax) {MathJax.Hub.Config({SVG: {font: \"STIX-Web\"}});}</script>\n",
              "                <script type=\"text/javascript\">window.PlotlyConfig = {MathJaxConfig: 'local'};</script>\n",
              "        <script src=\"https://cdn.plot.ly/plotly-latest.min.js\"></script>    \n",
              "            <div id=\"3d55c341-71fb-4de3-96fc-72829445f917\" class=\"plotly-graph-div\" style=\"height:525px; width:100%;\"></div>\n",
              "            <script type=\"text/javascript\">\n",
              "                \n",
              "                    window.PLOTLYENV=window.PLOTLYENV || {};\n",
              "                    \n",
              "                if (document.getElementById(\"3d55c341-71fb-4de3-96fc-72829445f917\")) {\n",
              "                    Plotly.newPlot(\n",
              "                        '3d55c341-71fb-4de3-96fc-72829445f917',\n",
              "                        [{\"domain\": {\"x\": [0.0, 1.0], \"y\": [0.0, 1.0]}, \"hole\": 0.4, \"hoverinfo\": \"value+percent\", \"hoverlabel\": {\"namelength\": 0}, \"hovertemplate\": \"label=%{label}<br>value=%{value}\", \"labels\": [\"Everyone\", \"Teen\", \"Mature 17+\", \"Everyone 10+\", \"For adults only\", \"Unrated\"], \"legendgroup\": \"\", \"name\": \"\", \"showlegend\": true, \"textfont\": {\"size\": 20}, \"textinfo\": \"label+percent\", \"textposition\": \"outside\", \"type\": \"pie\", \"values\": [6617, 912, 357, 305, 3, 1]}],\n",
              "                        {\"legend\": {\"tracegroupgap\": 0}, \"template\": {\"data\": {\"bar\": [{\"error_x\": {\"color\": \"#2a3f5f\"}, \"error_y\": {\"color\": \"#2a3f5f\"}, \"marker\": {\"line\": {\"color\": \"#E5ECF6\", \"width\": 0.5}}, \"type\": \"bar\"}], \"barpolar\": [{\"marker\": {\"line\": {\"color\": \"#E5ECF6\", \"width\": 0.5}}, \"type\": \"barpolar\"}], \"carpet\": [{\"aaxis\": {\"endlinecolor\": \"#2a3f5f\", \"gridcolor\": \"white\", \"linecolor\": \"white\", \"minorgridcolor\": \"white\", \"startlinecolor\": \"#2a3f5f\"}, \"baxis\": {\"endlinecolor\": \"#2a3f5f\", \"gridcolor\": \"white\", \"linecolor\": \"white\", \"minorgridcolor\": \"white\", \"startlinecolor\": \"#2a3f5f\"}, \"type\": \"carpet\"}], \"choropleth\": [{\"colorbar\": {\"outlinewidth\": 0, \"ticks\": \"\"}, \"type\": \"choropleth\"}], \"contour\": [{\"colorbar\": {\"outlinewidth\": 0, \"ticks\": \"\"}, \"colorscale\": [[0.0, \"#0d0887\"], [0.1111111111111111, \"#46039f\"], [0.2222222222222222, \"#7201a8\"], [0.3333333333333333, \"#9c179e\"], [0.4444444444444444, \"#bd3786\"], [0.5555555555555556, \"#d8576b\"], [0.6666666666666666, \"#ed7953\"], [0.7777777777777778, \"#fb9f3a\"], [0.8888888888888888, \"#fdca26\"], [1.0, \"#f0f921\"]], \"type\": \"contour\"}], \"contourcarpet\": [{\"colorbar\": {\"outlinewidth\": 0, \"ticks\": \"\"}, \"type\": \"contourcarpet\"}], \"heatmap\": [{\"colorbar\": {\"outlinewidth\": 0, \"ticks\": \"\"}, \"colorscale\": [[0.0, \"#0d0887\"], [0.1111111111111111, \"#46039f\"], [0.2222222222222222, \"#7201a8\"], [0.3333333333333333, \"#9c179e\"], [0.4444444444444444, \"#bd3786\"], [0.5555555555555556, \"#d8576b\"], [0.6666666666666666, \"#ed7953\"], [0.7777777777777778, \"#fb9f3a\"], [0.8888888888888888, \"#fdca26\"], [1.0, \"#f0f921\"]], \"type\": \"heatmap\"}], \"heatmapgl\": [{\"colorbar\": {\"outlinewidth\": 0, \"ticks\": \"\"}, \"colorscale\": [[0.0, \"#0d0887\"], [0.1111111111111111, \"#46039f\"], [0.2222222222222222, \"#7201a8\"], [0.3333333333333333, \"#9c179e\"], [0.4444444444444444, \"#bd3786\"], [0.5555555555555556, \"#d8576b\"], [0.6666666666666666, \"#ed7953\"], [0.7777777777777778, \"#fb9f3a\"], [0.8888888888888888, \"#fdca26\"], [1.0, \"#f0f921\"]], \"type\": \"heatmapgl\"}], \"histogram\": [{\"marker\": {\"colorbar\": {\"outlinewidth\": 0, \"ticks\": \"\"}}, \"type\": \"histogram\"}], \"histogram2d\": [{\"colorbar\": {\"outlinewidth\": 0, \"ticks\": \"\"}, \"colorscale\": [[0.0, \"#0d0887\"], [0.1111111111111111, \"#46039f\"], [0.2222222222222222, \"#7201a8\"], [0.3333333333333333, \"#9c179e\"], [0.4444444444444444, \"#bd3786\"], [0.5555555555555556, \"#d8576b\"], [0.6666666666666666, \"#ed7953\"], [0.7777777777777778, \"#fb9f3a\"], [0.8888888888888888, \"#fdca26\"], [1.0, \"#f0f921\"]], \"type\": \"histogram2d\"}], \"histogram2dcontour\": [{\"colorbar\": {\"outlinewidth\": 0, \"ticks\": \"\"}, \"colorscale\": [[0.0, \"#0d0887\"], [0.1111111111111111, \"#46039f\"], [0.2222222222222222, \"#7201a8\"], [0.3333333333333333, \"#9c179e\"], [0.4444444444444444, \"#bd3786\"], [0.5555555555555556, \"#d8576b\"], [0.6666666666666666, \"#ed7953\"], [0.7777777777777778, \"#fb9f3a\"], [0.8888888888888888, \"#fdca26\"], [1.0, \"#f0f921\"]], \"type\": \"histogram2dcontour\"}], \"mesh3d\": [{\"colorbar\": {\"outlinewidth\": 0, \"ticks\": \"\"}, \"type\": \"mesh3d\"}], \"parcoords\": [{\"line\": {\"colorbar\": {\"outlinewidth\": 0, \"ticks\": \"\"}}, \"type\": \"parcoords\"}], \"pie\": [{\"automargin\": true, \"type\": \"pie\"}], \"scatter\": [{\"marker\": {\"colorbar\": {\"outlinewidth\": 0, \"ticks\": \"\"}}, \"type\": \"scatter\"}], \"scatter3d\": [{\"line\": {\"colorbar\": {\"outlinewidth\": 0, \"ticks\": \"\"}}, \"marker\": {\"colorbar\": {\"outlinewidth\": 0, \"ticks\": \"\"}}, \"type\": \"scatter3d\"}], \"scattercarpet\": [{\"marker\": {\"colorbar\": {\"outlinewidth\": 0, \"ticks\": \"\"}}, \"type\": \"scattercarpet\"}], \"scattergeo\": [{\"marker\": {\"colorbar\": {\"outlinewidth\": 0, \"ticks\": \"\"}}, \"type\": \"scattergeo\"}], \"scattergl\": [{\"marker\": {\"colorbar\": {\"outlinewidth\": 0, \"ticks\": \"\"}}, \"type\": \"scattergl\"}], \"scattermapbox\": [{\"marker\": {\"colorbar\": {\"outlinewidth\": 0, \"ticks\": \"\"}}, \"type\": \"scattermapbox\"}], \"scatterpolar\": [{\"marker\": {\"colorbar\": {\"outlinewidth\": 0, \"ticks\": \"\"}}, \"type\": \"scatterpolar\"}], \"scatterpolargl\": [{\"marker\": {\"colorbar\": {\"outlinewidth\": 0, \"ticks\": \"\"}}, \"type\": \"scatterpolargl\"}], \"scatterternary\": [{\"marker\": {\"colorbar\": {\"outlinewidth\": 0, \"ticks\": \"\"}}, \"type\": \"scatterternary\"}], \"surface\": [{\"colorbar\": {\"outlinewidth\": 0, \"ticks\": \"\"}, \"colorscale\": [[0.0, \"#0d0887\"], [0.1111111111111111, \"#46039f\"], [0.2222222222222222, \"#7201a8\"], [0.3333333333333333, \"#9c179e\"], [0.4444444444444444, \"#bd3786\"], [0.5555555555555556, \"#d8576b\"], [0.6666666666666666, \"#ed7953\"], [0.7777777777777778, \"#fb9f3a\"], [0.8888888888888888, \"#fdca26\"], [1.0, \"#f0f921\"]], \"type\": \"surface\"}], \"table\": [{\"cells\": {\"fill\": {\"color\": \"#EBF0F8\"}, \"line\": {\"color\": \"white\"}}, \"header\": {\"fill\": {\"color\": \"#C8D4E3\"}, \"line\": {\"color\": \"white\"}}, \"type\": \"table\"}]}, \"layout\": {\"annotationdefaults\": {\"arrowcolor\": \"#2a3f5f\", \"arrowhead\": 0, \"arrowwidth\": 1}, \"coloraxis\": {\"colorbar\": {\"outlinewidth\": 0, \"ticks\": \"\"}}, \"colorscale\": {\"diverging\": [[0, \"#8e0152\"], [0.1, \"#c51b7d\"], [0.2, \"#de77ae\"], [0.3, \"#f1b6da\"], [0.4, \"#fde0ef\"], [0.5, \"#f7f7f7\"], [0.6, \"#e6f5d0\"], [0.7, \"#b8e186\"], [0.8, \"#7fbc41\"], [0.9, \"#4d9221\"], [1, \"#276419\"]], \"sequential\": [[0.0, \"#0d0887\"], [0.1111111111111111, \"#46039f\"], [0.2222222222222222, \"#7201a8\"], [0.3333333333333333, \"#9c179e\"], [0.4444444444444444, \"#bd3786\"], [0.5555555555555556, \"#d8576b\"], [0.6666666666666666, \"#ed7953\"], [0.7777777777777778, \"#fb9f3a\"], [0.8888888888888888, \"#fdca26\"], [1.0, \"#f0f921\"]], \"sequentialminus\": [[0.0, \"#0d0887\"], [0.1111111111111111, \"#46039f\"], [0.2222222222222222, \"#7201a8\"], [0.3333333333333333, \"#9c179e\"], [0.4444444444444444, \"#bd3786\"], [0.5555555555555556, \"#d8576b\"], [0.6666666666666666, \"#ed7953\"], [0.7777777777777778, \"#fb9f3a\"], [0.8888888888888888, \"#fdca26\"], [1.0, \"#f0f921\"]]}, \"colorway\": [\"#636efa\", \"#EF553B\", \"#00cc96\", \"#ab63fa\", \"#FFA15A\", \"#19d3f3\", \"#FF6692\", \"#B6E880\", \"#FF97FF\", \"#FECB52\"], \"font\": {\"color\": \"#2a3f5f\"}, \"geo\": {\"bgcolor\": \"white\", \"lakecolor\": \"white\", \"landcolor\": \"#E5ECF6\", \"showlakes\": true, \"showland\": true, \"subunitcolor\": \"white\"}, \"hoverlabel\": {\"align\": \"left\"}, \"hovermode\": \"closest\", \"mapbox\": {\"style\": \"light\"}, \"paper_bgcolor\": \"white\", \"plot_bgcolor\": \"#E5ECF6\", \"polar\": {\"angularaxis\": {\"gridcolor\": \"white\", \"linecolor\": \"white\", \"ticks\": \"\"}, \"bgcolor\": \"#E5ECF6\", \"radialaxis\": {\"gridcolor\": \"white\", \"linecolor\": \"white\", \"ticks\": \"\"}}, \"scene\": {\"xaxis\": {\"backgroundcolor\": \"#E5ECF6\", \"gridcolor\": \"white\", \"gridwidth\": 2, \"linecolor\": \"white\", \"showbackground\": true, \"ticks\": \"\", \"zerolinecolor\": \"white\"}, \"yaxis\": {\"backgroundcolor\": \"#E5ECF6\", \"gridcolor\": \"white\", \"gridwidth\": 2, \"linecolor\": \"white\", \"showbackground\": true, \"ticks\": \"\", \"zerolinecolor\": \"white\"}, \"zaxis\": {\"backgroundcolor\": \"#E5ECF6\", \"gridcolor\": \"white\", \"gridwidth\": 2, \"linecolor\": \"white\", \"showbackground\": true, \"ticks\": \"\", \"zerolinecolor\": \"white\"}}, \"shapedefaults\": {\"line\": {\"color\": \"#2a3f5f\"}}, \"ternary\": {\"aaxis\": {\"gridcolor\": \"white\", \"linecolor\": \"white\", \"ticks\": \"\"}, \"baxis\": {\"gridcolor\": \"white\", \"linecolor\": \"white\", \"ticks\": \"\"}, \"bgcolor\": \"#E5ECF6\", \"caxis\": {\"gridcolor\": \"white\", \"linecolor\": \"white\", \"ticks\": \"\"}}, \"title\": {\"x\": 0.05}, \"xaxis\": {\"automargin\": true, \"gridcolor\": \"white\", \"linecolor\": \"white\", \"ticks\": \"\", \"title\": {\"standoff\": 15}, \"zerolinecolor\": \"white\", \"zerolinewidth\": 2}, \"yaxis\": {\"automargin\": true, \"gridcolor\": \"white\", \"linecolor\": \"white\", \"ticks\": \"\", \"title\": {\"standoff\": 15}, \"zerolinecolor\": \"white\", \"zerolinewidth\": 2}}}, \"title\": {\"text\": \"Types of apps based on age\"}},\n",
              "                        {\"responsive\": true}\n",
              "                    ).then(function(){\n",
              "                            \n",
              "var gd = document.getElementById('3d55c341-71fb-4de3-96fc-72829445f917');\n",
              "var x = new MutationObserver(function (mutations, observer) {{\n",
              "        var display = window.getComputedStyle(gd).display;\n",
              "        if (!display || display === 'none') {{\n",
              "            console.log([gd, 'removed!']);\n",
              "            Plotly.purge(gd);\n",
              "            observer.disconnect();\n",
              "        }}\n",
              "}});\n",
              "\n",
              "// Listen for the removal of the full notebook cells\n",
              "var notebookContainer = gd.closest('#notebook-container');\n",
              "if (notebookContainer) {{\n",
              "    x.observe(notebookContainer, {childList: true});\n",
              "}}\n",
              "\n",
              "// Listen for the clearing of the current output cell\n",
              "var outputEl = gd.closest('.output');\n",
              "if (outputEl) {{\n",
              "    x.observe(outputEl, {childList: true});\n",
              "}}\n",
              "\n",
              "                        })\n",
              "                };\n",
              "                \n",
              "            </script>\n",
              "        </div>\n",
              "</body>\n",
              "</html>"
            ]
          },
          "metadata": {}
        }
      ]
    },
    {
      "cell_type": "code",
      "metadata": {
        "id": "7kil2mdfoFOr"
      },
      "source": [
        ""
      ],
      "execution_count": null,
      "outputs": []
    },
    {
      "cell_type": "code",
      "metadata": {
        "id": "6ZaHYNy2oFEE"
      },
      "source": [
        ""
      ],
      "execution_count": null,
      "outputs": []
    },
    {
      "cell_type": "markdown",
      "metadata": {
        "id": "RoPpW37xdiUm"
      },
      "source": [
        "# Numeric Type Conversion: Examine the Number of Installs\n",
        "\n",
        "**Challenge**: How many apps had over 1 billion (that's right - BILLION) installations? How many apps just had a single install? \n",
        "\n",
        "Check the datatype of the Installs column.\n",
        "\n",
        "Count the number of apps at each level of installations. \n",
        "\n",
        "Convert the number of installations (the Installs column) to a numeric data type. Hint: this is a 2-step process. You'll have make sure you remove non-numeric characters first. "
      ]
    },
    {
      "cell_type": "code",
      "metadata": {
        "id": "uTNyWsPboJLq"
      },
      "source": [
        "df_apps"
      ],
      "execution_count": null,
      "outputs": []
    },
    {
      "cell_type": "code",
      "metadata": {
        "id": "yzR49fYcoJRI"
      },
      "source": [
        ""
      ],
      "execution_count": null,
      "outputs": []
    },
    {
      "cell_type": "code",
      "metadata": {
        "id": "cFjptR-JoJOE"
      },
      "source": [
        ""
      ],
      "execution_count": null,
      "outputs": []
    },
    {
      "cell_type": "code",
      "metadata": {
        "id": "8AMmxKHgoJGT"
      },
      "source": [
        ""
      ],
      "execution_count": null,
      "outputs": []
    },
    {
      "cell_type": "markdown",
      "metadata": {
        "id": "7T4sfNpFdiUv"
      },
      "source": [
        "# Find the Most Expensive Apps, Filter out the Junk, and Calculate a (ballpark) Sales Revenue Estimate\n",
        "\n",
        "Let's examine the Price column more closely.\n",
        "\n",
        "**Challenge**: Convert the price column to numeric data. Then investigate the top 20 most expensive apps in the dataset.\n",
        "\n",
        "Remove all apps that cost more than $250 from the `df_apps_clean` DataFrame.\n",
        "\n",
        "Add a column called 'Revenue_Estimate' to the DataFrame. This column should hold the price of the app times the number of installs. What are the top 10 highest grossing paid apps according to this estimate? Out of the top 10 highest grossing paid apps, how many are games?\n"
      ]
    },
    {
      "cell_type": "code",
      "metadata": {
        "id": "CqhX2WCJoQEp"
      },
      "source": [
        ""
      ],
      "execution_count": null,
      "outputs": []
    },
    {
      "cell_type": "markdown",
      "metadata": {
        "id": "Rgposh-CdiU4"
      },
      "source": [
        "### The most expensive apps sub $250"
      ]
    },
    {
      "cell_type": "code",
      "metadata": {
        "id": "c8_n8z8XoUML"
      },
      "source": [
        ""
      ],
      "execution_count": null,
      "outputs": []
    },
    {
      "cell_type": "markdown",
      "metadata": {
        "id": "VGu85CLb4OOH"
      },
      "source": [
        "### Highest Grossing Paid Apps (ballpark estimate)"
      ]
    },
    {
      "cell_type": "code",
      "metadata": {
        "id": "3mDi45iIoVzE"
      },
      "source": [
        ""
      ],
      "execution_count": null,
      "outputs": []
    },
    {
      "cell_type": "markdown",
      "metadata": {
        "dc": {
          "key": "18"
        },
        "run_control": {
          "frozen": true
        },
        "tags": [
          "context"
        ],
        "id": "lvpM2MyTdiU6"
      },
      "source": [
        "# Plotly Bar Charts & Scatter Plots: Analysing App Categories"
      ]
    },
    {
      "cell_type": "code",
      "metadata": {
        "id": "3L6hK0aLoYxY"
      },
      "source": [
        ""
      ],
      "execution_count": null,
      "outputs": []
    },
    {
      "cell_type": "code",
      "metadata": {
        "id": "mg50Ts9joYz1"
      },
      "source": [
        ""
      ],
      "execution_count": null,
      "outputs": []
    },
    {
      "cell_type": "code",
      "metadata": {
        "id": "WZZizlGjoYfn"
      },
      "source": [
        ""
      ],
      "execution_count": null,
      "outputs": []
    },
    {
      "cell_type": "markdown",
      "metadata": {
        "id": "0tTurR7qdiU9"
      },
      "source": [
        "### Vertical Bar Chart - Highest Competition (Number of Apps)"
      ]
    },
    {
      "cell_type": "code",
      "metadata": {
        "id": "SFSMH00AoaMB"
      },
      "source": [
        ""
      ],
      "execution_count": null,
      "outputs": []
    },
    {
      "cell_type": "markdown",
      "metadata": {
        "id": "57mowetLdiU_"
      },
      "source": [
        "### Horizontal Bar Chart - Most Popular Categories (Highest Downloads)"
      ]
    },
    {
      "cell_type": "code",
      "metadata": {
        "id": "zHO7eTJmocLm"
      },
      "source": [
        ""
      ],
      "execution_count": null,
      "outputs": []
    },
    {
      "cell_type": "code",
      "metadata": {
        "id": "h7aUARLtocCy"
      },
      "source": [
        ""
      ],
      "execution_count": null,
      "outputs": []
    },
    {
      "cell_type": "markdown",
      "metadata": {
        "id": "Uxk24qMk8vrz"
      },
      "source": [
        "### Category Concentration - Downloads vs. Competition\n",
        "\n",
        "**Challenge**: \n",
        "* First, create a DataFrame that has the number of apps in one column and the number of installs in another:\n",
        "\n",
        "<img src=https://imgur.com/uQRSlXi.png width=\"350\">\n",
        "\n",
        "* Then use the [plotly express examples from the documentation](https://plotly.com/python/line-and-scatter/) alongside the [.scatter() API reference](https://plotly.com/python-api-reference/generated/plotly.express.scatter.html)to create scatter plot that looks like this. \n",
        "\n",
        "<img src=https://imgur.com/cHsqh6a.png>\n",
        "\n",
        "*Hint*: Use the size, hover_name and color parameters in .scatter(). To scale the yaxis, call .update_layout() and specify that the yaxis should be on a log-scale like so: yaxis=dict(type='log') "
      ]
    },
    {
      "cell_type": "code",
      "metadata": {
        "id": "tVvGPDY7oe5A"
      },
      "source": [
        ""
      ],
      "execution_count": null,
      "outputs": []
    },
    {
      "cell_type": "markdown",
      "metadata": {
        "id": "dmXDF75WdiVC"
      },
      "source": [
        "# Extracting Nested Data from a Column\n",
        "\n",
        "**Challenge**: How many different types of genres are there? Can an app belong to more than one genre? Check what happens when you use .value_counts() on a column with nested values? See if you can work around this problem by using the .split() function and the DataFrame's [.stack() method](https://pandas.pydata.org/pandas-docs/stable/reference/api/pandas.DataFrame.stack.html). \n"
      ]
    },
    {
      "cell_type": "code",
      "metadata": {
        "id": "3Lo69kS6ogdm"
      },
      "source": [
        ""
      ],
      "execution_count": null,
      "outputs": []
    },
    {
      "cell_type": "markdown",
      "metadata": {
        "id": "F3zaKvfydiVI"
      },
      "source": [
        "# Colour Scales in Plotly Charts - Competition in Genres"
      ]
    },
    {
      "cell_type": "markdown",
      "metadata": {
        "id": "Ucw6RT59diVK"
      },
      "source": [
        "**Challenge**: Can you create this chart with the Series containing the genre data? \n",
        "\n",
        "<img src=https://imgur.com/DbcoQli.png width=400>\n",
        "\n",
        "Try experimenting with the built in colour scales in Plotly. You can find a full list [here](https://plotly.com/python/builtin-colorscales/). \n",
        "\n",
        "* Find a way to set the colour scale using the color_continuous_scale parameter. \n",
        "* Find a way to make the color axis disappear by using coloraxis_showscale. "
      ]
    },
    {
      "cell_type": "code",
      "metadata": {
        "id": "c5xbfMgxojoA"
      },
      "source": [
        ""
      ],
      "execution_count": null,
      "outputs": []
    },
    {
      "cell_type": "markdown",
      "metadata": {
        "id": "BIWG_10PyIzL"
      },
      "source": [
        "# Grouped Bar Charts: Free vs. Paid Apps per Category"
      ]
    },
    {
      "cell_type": "code",
      "metadata": {
        "id": "ANMs7xywolDH"
      },
      "source": [
        ""
      ],
      "execution_count": null,
      "outputs": []
    },
    {
      "cell_type": "markdown",
      "metadata": {
        "id": "wmRXm0TW1e_Z"
      },
      "source": [
        "**Challenge**: Use the plotly express bar [chart examples](https://plotly.com/python/bar-charts/#bar-chart-with-sorted-or-ordered-categories) and the [.bar() API reference](https://plotly.com/python-api-reference/generated/plotly.express.bar.html#plotly.express.bar) to create this bar chart: \n",
        "\n",
        "<img src=https://imgur.com/LE0XCxA.png>\n",
        "\n",
        "You'll want to use the `df_free_vs_paid` DataFrame that you created above that has the total number of free and paid apps per category. \n",
        "\n",
        "See if you can figure out how to get the look above by changing the `categoryorder` to 'total descending' as outlined in the documentation here [here](https://plotly.com/python/categorical-axes/#automatically-sorting-categories-by-name-or-total-value). "
      ]
    },
    {
      "cell_type": "code",
      "metadata": {
        "id": "tqOntrS7onGt"
      },
      "source": [
        ""
      ],
      "execution_count": null,
      "outputs": []
    },
    {
      "cell_type": "markdown",
      "metadata": {
        "id": "nbYh2tU-VZ-i"
      },
      "source": [
        "# Plotly Box Plots: Lost Downloads for Paid Apps\n",
        "\n",
        "**Challenge**: Create a box plot that shows the number of Installs for free versus paid apps. How does the median number of installations compare? Is the difference large or small?\n",
        "\n",
        "Use the [Box Plots Guide](https://plotly.com/python/box-plots/) and the [.box API reference](https://plotly.com/python-api-reference/generated/plotly.express.box.html) to create the following chart. \n",
        "\n",
        "<img src=https://imgur.com/uVsECT3.png>\n"
      ]
    },
    {
      "cell_type": "code",
      "metadata": {
        "id": "Jip3hMZ7oqLS"
      },
      "source": [
        ""
      ],
      "execution_count": null,
      "outputs": []
    },
    {
      "cell_type": "markdown",
      "metadata": {
        "id": "Xi2NaEBPVNrP"
      },
      "source": [
        "# Plotly Box Plots: Revenue by App Category\n",
        "\n",
        "**Challenge**: See if you can generate the chart below: \n",
        "\n",
        "<img src=https://imgur.com/v4CiNqX.png>\n",
        "\n",
        "Looking at the hover text, how much does the median app earn in the Tools category? If developing an Android app costs $30,000 or thereabouts, does the average photography app recoup its development costs?\n",
        "\n",
        "Hint: I've used 'min ascending' to sort the categories. "
      ]
    },
    {
      "cell_type": "code",
      "metadata": {
        "id": "W1iVoT8Dos7x"
      },
      "source": [
        ""
      ],
      "execution_count": null,
      "outputs": []
    },
    {
      "cell_type": "markdown",
      "metadata": {
        "id": "uT32ylj4WS9B"
      },
      "source": [
        "# How Much Can You Charge? Examine Paid App Pricing Strategies by Category\n",
        "\n",
        "**Challenge**: What is the median price price for a paid app? Then compare pricing by category by creating another box plot. But this time examine the prices (instead of the revenue estimates) of the paid apps. I recommend using `{categoryorder':'max descending'}` to sort the categories."
      ]
    },
    {
      "cell_type": "code",
      "metadata": {
        "id": "AdBr0TUhouqs"
      },
      "source": [
        ""
      ],
      "execution_count": null,
      "outputs": []
    },
    {
      "cell_type": "code",
      "metadata": {
        "id": "bJnABRw3ovwr"
      },
      "source": [
        ""
      ],
      "execution_count": null,
      "outputs": []
    },
    {
      "cell_type": "code",
      "metadata": {
        "id": "zSXVSlVyQ4Kz"
      },
      "source": [
        ""
      ],
      "execution_count": null,
      "outputs": []
    }
  ]
}